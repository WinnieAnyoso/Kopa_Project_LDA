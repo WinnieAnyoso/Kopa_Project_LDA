{
  "nbformat": 4,
  "nbformat_minor": 0,
  "metadata": {
    "kernelspec": {
      "display_name": "Python 3",
      "language": "python",
      "name": "python3"
    },
    "language_info": {
      "codemirror_mode": {
        "name": "ipython",
        "version": 3
      },
      "file_extension": ".py",
      "mimetype": "text/x-python",
      "name": "python",
      "nbconvert_exporter": "python",
      "pygments_lexer": "ipython3",
      "version": "3.7.3"
    },
    "colab": {
      "name": "Kopa_Project1.ipynb",
      "provenance": [],
      "collapsed_sections": [],
      "toc_visible": true,
      "include_colab_link": true
    }
  },
  "cells": [
    {
      "cell_type": "markdown",
      "metadata": {
        "id": "view-in-github",
        "colab_type": "text"
      },
      "source": [
        "<a href=\"https://colab.research.google.com/github/WinnieAnyoso/Kopa_Project_LDA/blob/main/Kopa_Project1.ipynb\" target=\"_parent\"><img src=\"https://colab.research.google.com/assets/colab-badge.svg\" alt=\"Open In Colab\"/></a>"
      ]
    },
    {
      "cell_type": "markdown",
      "metadata": {
        "id": "DWzv6pDLBYeN"
      },
      "source": [
        "\n",
        "\n",
        "## Introduction\n",
        "\n",
        "The aim of this project is to build a regression model to predict **Loan Status**.\n",
        "\n",
        "The input variables in play are described below:\n",
        "   * Product : The product type purchased by the customer\n",
        "   * CustomerGender : Self-explanatory\n",
        "   * Location : The location where the loan was issued. (Also includes a long-tail of legacy locations)\n",
        "   * Region : The sales region where the device was purchased. Includes many regions which have since been changed. The current               set of main sales regions are Regions 1-7.\n",
        "   * TotalPrice : The total amount to-be-paid by the customer over the course of the loan (including deposit and daily payments)\n",
        "   * StartDate : The day on which the customer's loan became active\n",
        "   * Deposit : The initial deposit required from the customer prior to loan activation\n",
        "   * DailyRate : The amount that the customer must pay daily in order to continue to use their device\n",
        "   * TotalDays : The number of days for which the customer is expected to continue paying the daily rate\n",
        "   * AmountPaid30 : The amount that the customer had repaid as of the 30th day of their loan\n",
        "   * AmountPaid60 : The amount that the customer had repaid as of the 60th day of their loan\n",
        "\n",
        "The outcome variables are as follows:\n",
        "   * AmountPaid360 : The amount that the customer had repaid as of the 360th day of their loan\n",
        "   * LoanStatus360 : The status of the loan as of day 360:\n",
        "   * Active : The customer is still actively repaying their loan.\n",
        "   * Blocked : The customer has had their account blocked after more than 30 days without a payment.\n",
        "   * Finished Payment : The customer has successfully repaid their loan.\n"
      ]
    },
    {
      "cell_type": "markdown",
      "metadata": {
        "id": "aZKnu24TBYeO"
      },
      "source": [
        "## Importing the necessary libraries"
      ]
    },
    {
      "cell_type": "code",
      "metadata": {
        "id": "HQDOzoJEBYeP"
      },
      "source": [
        "#Library imports\n",
        "import numpy as np\n",
        "import pandas as pd\n",
        "import matplotlib.pyplot as plt\n",
        "import seaborn as sns\n",
        "\n",
        "\n",
        "# magic function to allow matplotlib plots to show\n",
        "%matplotlib inline"
      ],
      "execution_count": 1,
      "outputs": []
    },
    {
      "cell_type": "markdown",
      "metadata": {
        "id": "DWZzTi_NBYeU"
      },
      "source": [
        "## Data Importation and Exploration"
      ]
    },
    {
      "cell_type": "code",
      "metadata": {
        "id": "2Fxp9ANgBYeU"
      },
      "source": [
        "#ensuring all columns are displayed\n",
        "pd.pandas.set_option('display.max_columns', None)"
      ],
      "execution_count": 2,
      "outputs": []
    },
    {
      "cell_type": "code",
      "metadata": {
        "id": "pNo7K0PwBYed"
      },
      "source": [
        "#loading the dataframe as df and setting the variable 'StartDate' as  datetime \n",
        "\n",
        "df = pd.read_csv('KOPA.csv', parse_dates = ['StartDate'])"
      ],
      "execution_count": 3,
      "outputs": []
    },
    {
      "cell_type": "code",
      "metadata": {
        "id": "OVgWyfDkAxY7",
        "outputId": "14dcbf9a-a90c-407d-ceea-9a0504216e6d",
        "colab": {
          "base_uri": "https://localhost:8080/",
          "height": 357
        }
      },
      "source": [
        "#Look at the first five rows\n",
        "df.head()"
      ],
      "execution_count": 4,
      "outputs": [
        {
          "output_type": "execute_result",
          "data": {
            "text/html": [
              "\n",
              "  <div id=\"df-c8c46b6b-0e5e-4936-abee-cef47189654f\">\n",
              "    <div class=\"colab-df-container\">\n",
              "      <div>\n",
              "<style scoped>\n",
              "    .dataframe tbody tr th:only-of-type {\n",
              "        vertical-align: middle;\n",
              "    }\n",
              "\n",
              "    .dataframe tbody tr th {\n",
              "        vertical-align: top;\n",
              "    }\n",
              "\n",
              "    .dataframe thead th {\n",
              "        text-align: right;\n",
              "    }\n",
              "</style>\n",
              "<table border=\"1\" class=\"dataframe\">\n",
              "  <thead>\n",
              "    <tr style=\"text-align: right;\">\n",
              "      <th></th>\n",
              "      <th>Product</th>\n",
              "      <th>CustomerGender</th>\n",
              "      <th>Location</th>\n",
              "      <th>Region</th>\n",
              "      <th>TotalPrice</th>\n",
              "      <th>StartDate</th>\n",
              "      <th>Deposit</th>\n",
              "      <th>DailyRate</th>\n",
              "      <th>TotalDays</th>\n",
              "      <th>AmountPaid30</th>\n",
              "      <th>AmountPaid60</th>\n",
              "      <th>AmountPaid360</th>\n",
              "      <th>LoanStatus360</th>\n",
              "    </tr>\n",
              "  </thead>\n",
              "  <tbody>\n",
              "    <tr>\n",
              "      <th>0</th>\n",
              "      <td>Product B</td>\n",
              "      <td>Male</td>\n",
              "      <td>Location 2</td>\n",
              "      <td>Region 2</td>\n",
              "      <td>16600</td>\n",
              "      <td>2014-07-04</td>\n",
              "      <td>2000</td>\n",
              "      <td>40</td>\n",
              "      <td>365</td>\n",
              "      <td>3121</td>\n",
              "      <td>4241</td>\n",
              "      <td>13621</td>\n",
              "      <td>Active</td>\n",
              "    </tr>\n",
              "    <tr>\n",
              "      <th>1</th>\n",
              "      <td>Product B</td>\n",
              "      <td>Male</td>\n",
              "      <td>Location 3</td>\n",
              "      <td>Region 3</td>\n",
              "      <td>16600</td>\n",
              "      <td>2015-01-02</td>\n",
              "      <td>2000</td>\n",
              "      <td>40</td>\n",
              "      <td>365</td>\n",
              "      <td>3061</td>\n",
              "      <td>4171</td>\n",
              "      <td>15041</td>\n",
              "      <td>Active</td>\n",
              "    </tr>\n",
              "    <tr>\n",
              "      <th>2</th>\n",
              "      <td>Product C</td>\n",
              "      <td>Female</td>\n",
              "      <td>Location 5</td>\n",
              "      <td>Region 5</td>\n",
              "      <td>15600</td>\n",
              "      <td>2012-12-08</td>\n",
              "      <td>1000</td>\n",
              "      <td>40</td>\n",
              "      <td>365</td>\n",
              "      <td>2160</td>\n",
              "      <td>3280</td>\n",
              "      <td>15340</td>\n",
              "      <td>Active</td>\n",
              "    </tr>\n",
              "    <tr>\n",
              "      <th>3</th>\n",
              "      <td>Product B</td>\n",
              "      <td>Male</td>\n",
              "      <td>Location 6</td>\n",
              "      <td>Region 1</td>\n",
              "      <td>16600</td>\n",
              "      <td>2015-02-20</td>\n",
              "      <td>2000</td>\n",
              "      <td>40</td>\n",
              "      <td>365</td>\n",
              "      <td>3041</td>\n",
              "      <td>4241</td>\n",
              "      <td>15321</td>\n",
              "      <td>Active</td>\n",
              "    </tr>\n",
              "    <tr>\n",
              "      <th>4</th>\n",
              "      <td>Product D</td>\n",
              "      <td>Female</td>\n",
              "      <td>Location 7</td>\n",
              "      <td>Region 2</td>\n",
              "      <td>20250</td>\n",
              "      <td>2013-10-28</td>\n",
              "      <td>2000</td>\n",
              "      <td>50</td>\n",
              "      <td>365</td>\n",
              "      <td>3470</td>\n",
              "      <td>4820</td>\n",
              "      <td>13720</td>\n",
              "      <td>Active</td>\n",
              "    </tr>\n",
              "  </tbody>\n",
              "</table>\n",
              "</div>\n",
              "      <button class=\"colab-df-convert\" onclick=\"convertToInteractive('df-c8c46b6b-0e5e-4936-abee-cef47189654f')\"\n",
              "              title=\"Convert this dataframe to an interactive table.\"\n",
              "              style=\"display:none;\">\n",
              "        \n",
              "  <svg xmlns=\"http://www.w3.org/2000/svg\" height=\"24px\"viewBox=\"0 0 24 24\"\n",
              "       width=\"24px\">\n",
              "    <path d=\"M0 0h24v24H0V0z\" fill=\"none\"/>\n",
              "    <path d=\"M18.56 5.44l.94 2.06.94-2.06 2.06-.94-2.06-.94-.94-2.06-.94 2.06-2.06.94zm-11 1L8.5 8.5l.94-2.06 2.06-.94-2.06-.94L8.5 2.5l-.94 2.06-2.06.94zm10 10l.94 2.06.94-2.06 2.06-.94-2.06-.94-.94-2.06-.94 2.06-2.06.94z\"/><path d=\"M17.41 7.96l-1.37-1.37c-.4-.4-.92-.59-1.43-.59-.52 0-1.04.2-1.43.59L10.3 9.45l-7.72 7.72c-.78.78-.78 2.05 0 2.83L4 21.41c.39.39.9.59 1.41.59.51 0 1.02-.2 1.41-.59l7.78-7.78 2.81-2.81c.8-.78.8-2.07 0-2.86zM5.41 20L4 18.59l7.72-7.72 1.47 1.35L5.41 20z\"/>\n",
              "  </svg>\n",
              "      </button>\n",
              "      \n",
              "  <style>\n",
              "    .colab-df-container {\n",
              "      display:flex;\n",
              "      flex-wrap:wrap;\n",
              "      gap: 12px;\n",
              "    }\n",
              "\n",
              "    .colab-df-convert {\n",
              "      background-color: #E8F0FE;\n",
              "      border: none;\n",
              "      border-radius: 50%;\n",
              "      cursor: pointer;\n",
              "      display: none;\n",
              "      fill: #1967D2;\n",
              "      height: 32px;\n",
              "      padding: 0 0 0 0;\n",
              "      width: 32px;\n",
              "    }\n",
              "\n",
              "    .colab-df-convert:hover {\n",
              "      background-color: #E2EBFA;\n",
              "      box-shadow: 0px 1px 2px rgba(60, 64, 67, 0.3), 0px 1px 3px 1px rgba(60, 64, 67, 0.15);\n",
              "      fill: #174EA6;\n",
              "    }\n",
              "\n",
              "    [theme=dark] .colab-df-convert {\n",
              "      background-color: #3B4455;\n",
              "      fill: #D2E3FC;\n",
              "    }\n",
              "\n",
              "    [theme=dark] .colab-df-convert:hover {\n",
              "      background-color: #434B5C;\n",
              "      box-shadow: 0px 1px 3px 1px rgba(0, 0, 0, 0.15);\n",
              "      filter: drop-shadow(0px 1px 2px rgba(0, 0, 0, 0.3));\n",
              "      fill: #FFFFFF;\n",
              "    }\n",
              "  </style>\n",
              "\n",
              "      <script>\n",
              "        const buttonEl =\n",
              "          document.querySelector('#df-c8c46b6b-0e5e-4936-abee-cef47189654f button.colab-df-convert');\n",
              "        buttonEl.style.display =\n",
              "          google.colab.kernel.accessAllowed ? 'block' : 'none';\n",
              "\n",
              "        async function convertToInteractive(key) {\n",
              "          const element = document.querySelector('#df-c8c46b6b-0e5e-4936-abee-cef47189654f');\n",
              "          const dataTable =\n",
              "            await google.colab.kernel.invokeFunction('convertToInteractive',\n",
              "                                                     [key], {});\n",
              "          if (!dataTable) return;\n",
              "\n",
              "          const docLinkHtml = 'Like what you see? Visit the ' +\n",
              "            '<a target=\"_blank\" href=https://colab.research.google.com/notebooks/data_table.ipynb>data table notebook</a>'\n",
              "            + ' to learn more about interactive tables.';\n",
              "          element.innerHTML = '';\n",
              "          dataTable['output_type'] = 'display_data';\n",
              "          await google.colab.output.renderOutput(dataTable, element);\n",
              "          const docLink = document.createElement('div');\n",
              "          docLink.innerHTML = docLinkHtml;\n",
              "          element.appendChild(docLink);\n",
              "        }\n",
              "      </script>\n",
              "    </div>\n",
              "  </div>\n",
              "  "
            ],
            "text/plain": [
              "     Product CustomerGender    Location    Region  TotalPrice  StartDate  \\\n",
              "0  Product B           Male  Location 2  Region 2       16600 2014-07-04   \n",
              "1  Product B           Male  Location 3  Region 3       16600 2015-01-02   \n",
              "2  Product C         Female  Location 5  Region 5       15600 2012-12-08   \n",
              "3  Product B           Male  Location 6  Region 1       16600 2015-02-20   \n",
              "4  Product D         Female  Location 7  Region 2       20250 2013-10-28   \n",
              "\n",
              "   Deposit  DailyRate  TotalDays  AmountPaid30  AmountPaid60  AmountPaid360  \\\n",
              "0     2000         40        365          3121          4241          13621   \n",
              "1     2000         40        365          3061          4171          15041   \n",
              "2     1000         40        365          2160          3280          15340   \n",
              "3     2000         40        365          3041          4241          15321   \n",
              "4     2000         50        365          3470          4820          13720   \n",
              "\n",
              "  LoanStatus360  \n",
              "0        Active  \n",
              "1        Active  \n",
              "2        Active  \n",
              "3        Active  \n",
              "4        Active  "
            ]
          },
          "metadata": {},
          "execution_count": 4
        }
      ]
    },
    {
      "cell_type": "code",
      "source": [
        "df[\"LoanStatus360\"].unique()"
      ],
      "metadata": {
        "colab": {
          "base_uri": "https://localhost:8080/"
        },
        "id": "JM7A_6KufG0T",
        "outputId": "928f5716-5873-48a6-ce03-55dc0e99621c"
      },
      "execution_count": 51,
      "outputs": [
        {
          "output_type": "execute_result",
          "data": {
            "text/plain": [
              "array([0, 1, 2])"
            ]
          },
          "metadata": {},
          "execution_count": 51
        }
      ]
    },
    {
      "cell_type": "code",
      "metadata": {
        "id": "XHHQXQVgA7jH",
        "outputId": "0d465a72-d21a-465d-8d7a-2c3e491ef56c",
        "colab": {
          "base_uri": "https://localhost:8080/"
        }
      },
      "source": [
        "#Summarized information on the dataset\n",
        "df.info()"
      ],
      "execution_count": 5,
      "outputs": [
        {
          "output_type": "stream",
          "name": "stdout",
          "text": [
            "<class 'pandas.core.frame.DataFrame'>\n",
            "RangeIndex: 9195 entries, 0 to 9194\n",
            "Data columns (total 13 columns):\n",
            " #   Column          Non-Null Count  Dtype         \n",
            "---  ------          --------------  -----         \n",
            " 0   Product         9195 non-null   object        \n",
            " 1   CustomerGender  9195 non-null   object        \n",
            " 2   Location        9195 non-null   object        \n",
            " 3   Region          9195 non-null   object        \n",
            " 4   TotalPrice      9195 non-null   int64         \n",
            " 5   StartDate       9195 non-null   datetime64[ns]\n",
            " 6   Deposit         9195 non-null   int64         \n",
            " 7   DailyRate       9195 non-null   int64         \n",
            " 8   TotalDays       9195 non-null   int64         \n",
            " 9   AmountPaid30    9195 non-null   int64         \n",
            " 10  AmountPaid60    9195 non-null   int64         \n",
            " 11  AmountPaid360   9195 non-null   int64         \n",
            " 12  LoanStatus360   9195 non-null   object        \n",
            "dtypes: datetime64[ns](1), int64(7), object(5)\n",
            "memory usage: 934.0+ KB\n"
          ]
        }
      ]
    },
    {
      "cell_type": "code",
      "metadata": {
        "id": "RKkR0EhNBYei",
        "outputId": "75a8cb9c-54a2-4c0c-a51c-9aa0d881177d",
        "colab": {
          "base_uri": "https://localhost:8080/"
        }
      },
      "source": [
        "#checking for null values\n",
        "\n",
        "df.isnull().sum()"
      ],
      "execution_count": 6,
      "outputs": [
        {
          "output_type": "execute_result",
          "data": {
            "text/plain": [
              "Product           0\n",
              "CustomerGender    0\n",
              "Location          0\n",
              "Region            0\n",
              "TotalPrice        0\n",
              "StartDate         0\n",
              "Deposit           0\n",
              "DailyRate         0\n",
              "TotalDays         0\n",
              "AmountPaid30      0\n",
              "AmountPaid60      0\n",
              "AmountPaid360     0\n",
              "LoanStatus360     0\n",
              "dtype: int64"
            ]
          },
          "metadata": {},
          "execution_count": 6
        }
      ]
    },
    {
      "cell_type": "code",
      "metadata": {
        "id": "w3DW_2tfBYem",
        "outputId": "f4236a64-d7c0-4121-8361-8b5ea301ee23",
        "colab": {
          "base_uri": "https://localhost:8080/",
          "height": 300
        }
      },
      "source": [
        "#Summary of the characteristics of the numerical columns\n",
        "df.describe()"
      ],
      "execution_count": 7,
      "outputs": [
        {
          "output_type": "execute_result",
          "data": {
            "text/html": [
              "\n",
              "  <div id=\"df-b2163dec-bad9-498e-8d4f-d4065e1f4959\">\n",
              "    <div class=\"colab-df-container\">\n",
              "      <div>\n",
              "<style scoped>\n",
              "    .dataframe tbody tr th:only-of-type {\n",
              "        vertical-align: middle;\n",
              "    }\n",
              "\n",
              "    .dataframe tbody tr th {\n",
              "        vertical-align: top;\n",
              "    }\n",
              "\n",
              "    .dataframe thead th {\n",
              "        text-align: right;\n",
              "    }\n",
              "</style>\n",
              "<table border=\"1\" class=\"dataframe\">\n",
              "  <thead>\n",
              "    <tr style=\"text-align: right;\">\n",
              "      <th></th>\n",
              "      <th>TotalPrice</th>\n",
              "      <th>Deposit</th>\n",
              "      <th>DailyRate</th>\n",
              "      <th>TotalDays</th>\n",
              "      <th>AmountPaid30</th>\n",
              "      <th>AmountPaid60</th>\n",
              "      <th>AmountPaid360</th>\n",
              "    </tr>\n",
              "  </thead>\n",
              "  <tbody>\n",
              "    <tr>\n",
              "      <th>count</th>\n",
              "      <td>9195.000000</td>\n",
              "      <td>9195.000000</td>\n",
              "      <td>9195.000000</td>\n",
              "      <td>9195.0</td>\n",
              "      <td>9195.000000</td>\n",
              "      <td>9195.000000</td>\n",
              "      <td>9195.000000</td>\n",
              "    </tr>\n",
              "    <tr>\n",
              "      <th>mean</th>\n",
              "      <td>19266.264274</td>\n",
              "      <td>2311.528004</td>\n",
              "      <td>46.451332</td>\n",
              "      <td>365.0</td>\n",
              "      <td>3580.482762</td>\n",
              "      <td>4735.672974</td>\n",
              "      <td>14673.833061</td>\n",
              "    </tr>\n",
              "    <tr>\n",
              "      <th>std</th>\n",
              "      <td>6053.291677</td>\n",
              "      <td>1412.612091</td>\n",
              "      <td>13.375759</td>\n",
              "      <td>0.0</td>\n",
              "      <td>2487.320211</td>\n",
              "      <td>2756.332798</td>\n",
              "      <td>6676.242654</td>\n",
              "    </tr>\n",
              "    <tr>\n",
              "      <th>min</th>\n",
              "      <td>13775.000000</td>\n",
              "      <td>1000.000000</td>\n",
              "      <td>35.000000</td>\n",
              "      <td>365.0</td>\n",
              "      <td>-3200.000000</td>\n",
              "      <td>-3200.000000</td>\n",
              "      <td>-3200.000000</td>\n",
              "    </tr>\n",
              "    <tr>\n",
              "      <th>25%</th>\n",
              "      <td>16600.000000</td>\n",
              "      <td>2000.000000</td>\n",
              "      <td>40.000000</td>\n",
              "      <td>365.0</td>\n",
              "      <td>2500.000000</td>\n",
              "      <td>3437.500000</td>\n",
              "      <td>11351.000000</td>\n",
              "    </tr>\n",
              "    <tr>\n",
              "      <th>50%</th>\n",
              "      <td>16600.000000</td>\n",
              "      <td>2000.000000</td>\n",
              "      <td>40.000000</td>\n",
              "      <td>365.0</td>\n",
              "      <td>3351.000000</td>\n",
              "      <td>4400.000000</td>\n",
              "      <td>15140.000000</td>\n",
              "    </tr>\n",
              "    <tr>\n",
              "      <th>75%</th>\n",
              "      <td>20250.000000</td>\n",
              "      <td>2000.000000</td>\n",
              "      <td>50.000000</td>\n",
              "      <td>365.0</td>\n",
              "      <td>4601.000000</td>\n",
              "      <td>5668.000000</td>\n",
              "      <td>16600.000000</td>\n",
              "    </tr>\n",
              "    <tr>\n",
              "      <th>max</th>\n",
              "      <td>69225.000000</td>\n",
              "      <td>9000.000000</td>\n",
              "      <td>165.000000</td>\n",
              "      <td>365.0</td>\n",
              "      <td>26001.000000</td>\n",
              "      <td>33501.000000</td>\n",
              "      <td>69225.000000</td>\n",
              "    </tr>\n",
              "  </tbody>\n",
              "</table>\n",
              "</div>\n",
              "      <button class=\"colab-df-convert\" onclick=\"convertToInteractive('df-b2163dec-bad9-498e-8d4f-d4065e1f4959')\"\n",
              "              title=\"Convert this dataframe to an interactive table.\"\n",
              "              style=\"display:none;\">\n",
              "        \n",
              "  <svg xmlns=\"http://www.w3.org/2000/svg\" height=\"24px\"viewBox=\"0 0 24 24\"\n",
              "       width=\"24px\">\n",
              "    <path d=\"M0 0h24v24H0V0z\" fill=\"none\"/>\n",
              "    <path d=\"M18.56 5.44l.94 2.06.94-2.06 2.06-.94-2.06-.94-.94-2.06-.94 2.06-2.06.94zm-11 1L8.5 8.5l.94-2.06 2.06-.94-2.06-.94L8.5 2.5l-.94 2.06-2.06.94zm10 10l.94 2.06.94-2.06 2.06-.94-2.06-.94-.94-2.06-.94 2.06-2.06.94z\"/><path d=\"M17.41 7.96l-1.37-1.37c-.4-.4-.92-.59-1.43-.59-.52 0-1.04.2-1.43.59L10.3 9.45l-7.72 7.72c-.78.78-.78 2.05 0 2.83L4 21.41c.39.39.9.59 1.41.59.51 0 1.02-.2 1.41-.59l7.78-7.78 2.81-2.81c.8-.78.8-2.07 0-2.86zM5.41 20L4 18.59l7.72-7.72 1.47 1.35L5.41 20z\"/>\n",
              "  </svg>\n",
              "      </button>\n",
              "      \n",
              "  <style>\n",
              "    .colab-df-container {\n",
              "      display:flex;\n",
              "      flex-wrap:wrap;\n",
              "      gap: 12px;\n",
              "    }\n",
              "\n",
              "    .colab-df-convert {\n",
              "      background-color: #E8F0FE;\n",
              "      border: none;\n",
              "      border-radius: 50%;\n",
              "      cursor: pointer;\n",
              "      display: none;\n",
              "      fill: #1967D2;\n",
              "      height: 32px;\n",
              "      padding: 0 0 0 0;\n",
              "      width: 32px;\n",
              "    }\n",
              "\n",
              "    .colab-df-convert:hover {\n",
              "      background-color: #E2EBFA;\n",
              "      box-shadow: 0px 1px 2px rgba(60, 64, 67, 0.3), 0px 1px 3px 1px rgba(60, 64, 67, 0.15);\n",
              "      fill: #174EA6;\n",
              "    }\n",
              "\n",
              "    [theme=dark] .colab-df-convert {\n",
              "      background-color: #3B4455;\n",
              "      fill: #D2E3FC;\n",
              "    }\n",
              "\n",
              "    [theme=dark] .colab-df-convert:hover {\n",
              "      background-color: #434B5C;\n",
              "      box-shadow: 0px 1px 3px 1px rgba(0, 0, 0, 0.15);\n",
              "      filter: drop-shadow(0px 1px 2px rgba(0, 0, 0, 0.3));\n",
              "      fill: #FFFFFF;\n",
              "    }\n",
              "  </style>\n",
              "\n",
              "      <script>\n",
              "        const buttonEl =\n",
              "          document.querySelector('#df-b2163dec-bad9-498e-8d4f-d4065e1f4959 button.colab-df-convert');\n",
              "        buttonEl.style.display =\n",
              "          google.colab.kernel.accessAllowed ? 'block' : 'none';\n",
              "\n",
              "        async function convertToInteractive(key) {\n",
              "          const element = document.querySelector('#df-b2163dec-bad9-498e-8d4f-d4065e1f4959');\n",
              "          const dataTable =\n",
              "            await google.colab.kernel.invokeFunction('convertToInteractive',\n",
              "                                                     [key], {});\n",
              "          if (!dataTable) return;\n",
              "\n",
              "          const docLinkHtml = 'Like what you see? Visit the ' +\n",
              "            '<a target=\"_blank\" href=https://colab.research.google.com/notebooks/data_table.ipynb>data table notebook</a>'\n",
              "            + ' to learn more about interactive tables.';\n",
              "          element.innerHTML = '';\n",
              "          dataTable['output_type'] = 'display_data';\n",
              "          await google.colab.output.renderOutput(dataTable, element);\n",
              "          const docLink = document.createElement('div');\n",
              "          docLink.innerHTML = docLinkHtml;\n",
              "          element.appendChild(docLink);\n",
              "        }\n",
              "      </script>\n",
              "    </div>\n",
              "  </div>\n",
              "  "
            ],
            "text/plain": [
              "         TotalPrice      Deposit    DailyRate  TotalDays  AmountPaid30  \\\n",
              "count   9195.000000  9195.000000  9195.000000     9195.0   9195.000000   \n",
              "mean   19266.264274  2311.528004    46.451332      365.0   3580.482762   \n",
              "std     6053.291677  1412.612091    13.375759        0.0   2487.320211   \n",
              "min    13775.000000  1000.000000    35.000000      365.0  -3200.000000   \n",
              "25%    16600.000000  2000.000000    40.000000      365.0   2500.000000   \n",
              "50%    16600.000000  2000.000000    40.000000      365.0   3351.000000   \n",
              "75%    20250.000000  2000.000000    50.000000      365.0   4601.000000   \n",
              "max    69225.000000  9000.000000   165.000000      365.0  26001.000000   \n",
              "\n",
              "       AmountPaid60  AmountPaid360  \n",
              "count   9195.000000    9195.000000  \n",
              "mean    4735.672974   14673.833061  \n",
              "std     2756.332798    6676.242654  \n",
              "min    -3200.000000   -3200.000000  \n",
              "25%     3437.500000   11351.000000  \n",
              "50%     4400.000000   15140.000000  \n",
              "75%     5668.000000   16600.000000  \n",
              "max    33501.000000   69225.000000  "
            ]
          },
          "metadata": {},
          "execution_count": 7
        }
      ]
    },
    {
      "cell_type": "code",
      "metadata": {
        "id": "G2Ml08iKBYex",
        "outputId": "3911ad9b-7ff6-41fd-cbe6-d461be30f639",
        "colab": {
          "base_uri": "https://localhost:8080/",
          "height": 661
        }
      },
      "source": [
        "#Dropping any duplicates present\n",
        "df.drop_duplicates()"
      ],
      "execution_count": 8,
      "outputs": [
        {
          "output_type": "execute_result",
          "data": {
            "text/html": [
              "\n",
              "  <div id=\"df-0573800c-39a7-4935-9e70-978e70e7ef04\">\n",
              "    <div class=\"colab-df-container\">\n",
              "      <div>\n",
              "<style scoped>\n",
              "    .dataframe tbody tr th:only-of-type {\n",
              "        vertical-align: middle;\n",
              "    }\n",
              "\n",
              "    .dataframe tbody tr th {\n",
              "        vertical-align: top;\n",
              "    }\n",
              "\n",
              "    .dataframe thead th {\n",
              "        text-align: right;\n",
              "    }\n",
              "</style>\n",
              "<table border=\"1\" class=\"dataframe\">\n",
              "  <thead>\n",
              "    <tr style=\"text-align: right;\">\n",
              "      <th></th>\n",
              "      <th>Product</th>\n",
              "      <th>CustomerGender</th>\n",
              "      <th>Location</th>\n",
              "      <th>Region</th>\n",
              "      <th>TotalPrice</th>\n",
              "      <th>StartDate</th>\n",
              "      <th>Deposit</th>\n",
              "      <th>DailyRate</th>\n",
              "      <th>TotalDays</th>\n",
              "      <th>AmountPaid30</th>\n",
              "      <th>AmountPaid60</th>\n",
              "      <th>AmountPaid360</th>\n",
              "      <th>LoanStatus360</th>\n",
              "    </tr>\n",
              "  </thead>\n",
              "  <tbody>\n",
              "    <tr>\n",
              "      <th>0</th>\n",
              "      <td>Product B</td>\n",
              "      <td>Male</td>\n",
              "      <td>Location 2</td>\n",
              "      <td>Region 2</td>\n",
              "      <td>16600</td>\n",
              "      <td>2014-07-04</td>\n",
              "      <td>2000</td>\n",
              "      <td>40</td>\n",
              "      <td>365</td>\n",
              "      <td>3121</td>\n",
              "      <td>4241</td>\n",
              "      <td>13621</td>\n",
              "      <td>Active</td>\n",
              "    </tr>\n",
              "    <tr>\n",
              "      <th>1</th>\n",
              "      <td>Product B</td>\n",
              "      <td>Male</td>\n",
              "      <td>Location 3</td>\n",
              "      <td>Region 3</td>\n",
              "      <td>16600</td>\n",
              "      <td>2015-01-02</td>\n",
              "      <td>2000</td>\n",
              "      <td>40</td>\n",
              "      <td>365</td>\n",
              "      <td>3061</td>\n",
              "      <td>4171</td>\n",
              "      <td>15041</td>\n",
              "      <td>Active</td>\n",
              "    </tr>\n",
              "    <tr>\n",
              "      <th>2</th>\n",
              "      <td>Product C</td>\n",
              "      <td>Female</td>\n",
              "      <td>Location 5</td>\n",
              "      <td>Region 5</td>\n",
              "      <td>15600</td>\n",
              "      <td>2012-12-08</td>\n",
              "      <td>1000</td>\n",
              "      <td>40</td>\n",
              "      <td>365</td>\n",
              "      <td>2160</td>\n",
              "      <td>3280</td>\n",
              "      <td>15340</td>\n",
              "      <td>Active</td>\n",
              "    </tr>\n",
              "    <tr>\n",
              "      <th>3</th>\n",
              "      <td>Product B</td>\n",
              "      <td>Male</td>\n",
              "      <td>Location 6</td>\n",
              "      <td>Region 1</td>\n",
              "      <td>16600</td>\n",
              "      <td>2015-02-20</td>\n",
              "      <td>2000</td>\n",
              "      <td>40</td>\n",
              "      <td>365</td>\n",
              "      <td>3041</td>\n",
              "      <td>4241</td>\n",
              "      <td>15321</td>\n",
              "      <td>Active</td>\n",
              "    </tr>\n",
              "    <tr>\n",
              "      <th>4</th>\n",
              "      <td>Product D</td>\n",
              "      <td>Female</td>\n",
              "      <td>Location 7</td>\n",
              "      <td>Region 2</td>\n",
              "      <td>20250</td>\n",
              "      <td>2013-10-28</td>\n",
              "      <td>2000</td>\n",
              "      <td>50</td>\n",
              "      <td>365</td>\n",
              "      <td>3470</td>\n",
              "      <td>4820</td>\n",
              "      <td>13720</td>\n",
              "      <td>Active</td>\n",
              "    </tr>\n",
              "    <tr>\n",
              "      <th>...</th>\n",
              "      <td>...</td>\n",
              "      <td>...</td>\n",
              "      <td>...</td>\n",
              "      <td>...</td>\n",
              "      <td>...</td>\n",
              "      <td>...</td>\n",
              "      <td>...</td>\n",
              "      <td>...</td>\n",
              "      <td>...</td>\n",
              "      <td>...</td>\n",
              "      <td>...</td>\n",
              "      <td>...</td>\n",
              "      <td>...</td>\n",
              "    </tr>\n",
              "    <tr>\n",
              "      <th>9190</th>\n",
              "      <td>Product A</td>\n",
              "      <td>Female</td>\n",
              "      <td>Location 30</td>\n",
              "      <td>Region 2</td>\n",
              "      <td>20250</td>\n",
              "      <td>2016-06-30</td>\n",
              "      <td>2000</td>\n",
              "      <td>50</td>\n",
              "      <td>365</td>\n",
              "      <td>3601</td>\n",
              "      <td>4301</td>\n",
              "      <td>20250</td>\n",
              "      <td>Finished Payment</td>\n",
              "    </tr>\n",
              "    <tr>\n",
              "      <th>9191</th>\n",
              "      <td>Product D</td>\n",
              "      <td>Female</td>\n",
              "      <td>Location 57</td>\n",
              "      <td>Region 6</td>\n",
              "      <td>20250</td>\n",
              "      <td>2013-08-04</td>\n",
              "      <td>2000</td>\n",
              "      <td>50</td>\n",
              "      <td>365</td>\n",
              "      <td>4001</td>\n",
              "      <td>5501</td>\n",
              "      <td>20250</td>\n",
              "      <td>Finished Payment</td>\n",
              "    </tr>\n",
              "    <tr>\n",
              "      <th>9192</th>\n",
              "      <td>Product B</td>\n",
              "      <td>Female</td>\n",
              "      <td>Location 8</td>\n",
              "      <td>Region 2</td>\n",
              "      <td>16600</td>\n",
              "      <td>2014-06-14</td>\n",
              "      <td>2000</td>\n",
              "      <td>40</td>\n",
              "      <td>365</td>\n",
              "      <td>3401</td>\n",
              "      <td>4601</td>\n",
              "      <td>16600</td>\n",
              "      <td>Finished Payment</td>\n",
              "    </tr>\n",
              "    <tr>\n",
              "      <th>9193</th>\n",
              "      <td>Product B</td>\n",
              "      <td>Male</td>\n",
              "      <td>Location 4</td>\n",
              "      <td>Region 4</td>\n",
              "      <td>16600</td>\n",
              "      <td>2014-12-29</td>\n",
              "      <td>2000</td>\n",
              "      <td>40</td>\n",
              "      <td>365</td>\n",
              "      <td>3400</td>\n",
              "      <td>4600</td>\n",
              "      <td>16600</td>\n",
              "      <td>Finished Payment</td>\n",
              "    </tr>\n",
              "    <tr>\n",
              "      <th>9194</th>\n",
              "      <td>Product D</td>\n",
              "      <td>Male</td>\n",
              "      <td>Location 16</td>\n",
              "      <td>Region 1</td>\n",
              "      <td>20250</td>\n",
              "      <td>2013-06-23</td>\n",
              "      <td>2000</td>\n",
              "      <td>50</td>\n",
              "      <td>365</td>\n",
              "      <td>6950</td>\n",
              "      <td>6950</td>\n",
              "      <td>20250</td>\n",
              "      <td>Finished Payment</td>\n",
              "    </tr>\n",
              "  </tbody>\n",
              "</table>\n",
              "<p>9195 rows × 13 columns</p>\n",
              "</div>\n",
              "      <button class=\"colab-df-convert\" onclick=\"convertToInteractive('df-0573800c-39a7-4935-9e70-978e70e7ef04')\"\n",
              "              title=\"Convert this dataframe to an interactive table.\"\n",
              "              style=\"display:none;\">\n",
              "        \n",
              "  <svg xmlns=\"http://www.w3.org/2000/svg\" height=\"24px\"viewBox=\"0 0 24 24\"\n",
              "       width=\"24px\">\n",
              "    <path d=\"M0 0h24v24H0V0z\" fill=\"none\"/>\n",
              "    <path d=\"M18.56 5.44l.94 2.06.94-2.06 2.06-.94-2.06-.94-.94-2.06-.94 2.06-2.06.94zm-11 1L8.5 8.5l.94-2.06 2.06-.94-2.06-.94L8.5 2.5l-.94 2.06-2.06.94zm10 10l.94 2.06.94-2.06 2.06-.94-2.06-.94-.94-2.06-.94 2.06-2.06.94z\"/><path d=\"M17.41 7.96l-1.37-1.37c-.4-.4-.92-.59-1.43-.59-.52 0-1.04.2-1.43.59L10.3 9.45l-7.72 7.72c-.78.78-.78 2.05 0 2.83L4 21.41c.39.39.9.59 1.41.59.51 0 1.02-.2 1.41-.59l7.78-7.78 2.81-2.81c.8-.78.8-2.07 0-2.86zM5.41 20L4 18.59l7.72-7.72 1.47 1.35L5.41 20z\"/>\n",
              "  </svg>\n",
              "      </button>\n",
              "      \n",
              "  <style>\n",
              "    .colab-df-container {\n",
              "      display:flex;\n",
              "      flex-wrap:wrap;\n",
              "      gap: 12px;\n",
              "    }\n",
              "\n",
              "    .colab-df-convert {\n",
              "      background-color: #E8F0FE;\n",
              "      border: none;\n",
              "      border-radius: 50%;\n",
              "      cursor: pointer;\n",
              "      display: none;\n",
              "      fill: #1967D2;\n",
              "      height: 32px;\n",
              "      padding: 0 0 0 0;\n",
              "      width: 32px;\n",
              "    }\n",
              "\n",
              "    .colab-df-convert:hover {\n",
              "      background-color: #E2EBFA;\n",
              "      box-shadow: 0px 1px 2px rgba(60, 64, 67, 0.3), 0px 1px 3px 1px rgba(60, 64, 67, 0.15);\n",
              "      fill: #174EA6;\n",
              "    }\n",
              "\n",
              "    [theme=dark] .colab-df-convert {\n",
              "      background-color: #3B4455;\n",
              "      fill: #D2E3FC;\n",
              "    }\n",
              "\n",
              "    [theme=dark] .colab-df-convert:hover {\n",
              "      background-color: #434B5C;\n",
              "      box-shadow: 0px 1px 3px 1px rgba(0, 0, 0, 0.15);\n",
              "      filter: drop-shadow(0px 1px 2px rgba(0, 0, 0, 0.3));\n",
              "      fill: #FFFFFF;\n",
              "    }\n",
              "  </style>\n",
              "\n",
              "      <script>\n",
              "        const buttonEl =\n",
              "          document.querySelector('#df-0573800c-39a7-4935-9e70-978e70e7ef04 button.colab-df-convert');\n",
              "        buttonEl.style.display =\n",
              "          google.colab.kernel.accessAllowed ? 'block' : 'none';\n",
              "\n",
              "        async function convertToInteractive(key) {\n",
              "          const element = document.querySelector('#df-0573800c-39a7-4935-9e70-978e70e7ef04');\n",
              "          const dataTable =\n",
              "            await google.colab.kernel.invokeFunction('convertToInteractive',\n",
              "                                                     [key], {});\n",
              "          if (!dataTable) return;\n",
              "\n",
              "          const docLinkHtml = 'Like what you see? Visit the ' +\n",
              "            '<a target=\"_blank\" href=https://colab.research.google.com/notebooks/data_table.ipynb>data table notebook</a>'\n",
              "            + ' to learn more about interactive tables.';\n",
              "          element.innerHTML = '';\n",
              "          dataTable['output_type'] = 'display_data';\n",
              "          await google.colab.output.renderOutput(dataTable, element);\n",
              "          const docLink = document.createElement('div');\n",
              "          docLink.innerHTML = docLinkHtml;\n",
              "          element.appendChild(docLink);\n",
              "        }\n",
              "      </script>\n",
              "    </div>\n",
              "  </div>\n",
              "  "
            ],
            "text/plain": [
              "        Product CustomerGender     Location    Region  TotalPrice  StartDate  \\\n",
              "0     Product B           Male   Location 2  Region 2       16600 2014-07-04   \n",
              "1     Product B           Male   Location 3  Region 3       16600 2015-01-02   \n",
              "2     Product C         Female   Location 5  Region 5       15600 2012-12-08   \n",
              "3     Product B           Male   Location 6  Region 1       16600 2015-02-20   \n",
              "4     Product D         Female   Location 7  Region 2       20250 2013-10-28   \n",
              "...         ...            ...          ...       ...         ...        ...   \n",
              "9190  Product A         Female  Location 30  Region 2       20250 2016-06-30   \n",
              "9191  Product D         Female  Location 57  Region 6       20250 2013-08-04   \n",
              "9192  Product B         Female   Location 8  Region 2       16600 2014-06-14   \n",
              "9193  Product B           Male   Location 4  Region 4       16600 2014-12-29   \n",
              "9194  Product D           Male  Location 16  Region 1       20250 2013-06-23   \n",
              "\n",
              "      Deposit  DailyRate  TotalDays  AmountPaid30  AmountPaid60  \\\n",
              "0        2000         40        365          3121          4241   \n",
              "1        2000         40        365          3061          4171   \n",
              "2        1000         40        365          2160          3280   \n",
              "3        2000         40        365          3041          4241   \n",
              "4        2000         50        365          3470          4820   \n",
              "...       ...        ...        ...           ...           ...   \n",
              "9190     2000         50        365          3601          4301   \n",
              "9191     2000         50        365          4001          5501   \n",
              "9192     2000         40        365          3401          4601   \n",
              "9193     2000         40        365          3400          4600   \n",
              "9194     2000         50        365          6950          6950   \n",
              "\n",
              "      AmountPaid360     LoanStatus360  \n",
              "0             13621            Active  \n",
              "1             15041            Active  \n",
              "2             15340            Active  \n",
              "3             15321            Active  \n",
              "4             13720            Active  \n",
              "...             ...               ...  \n",
              "9190          20250  Finished Payment  \n",
              "9191          20250  Finished Payment  \n",
              "9192          16600  Finished Payment  \n",
              "9193          16600  Finished Payment  \n",
              "9194          20250  Finished Payment  \n",
              "\n",
              "[9195 rows x 13 columns]"
            ]
          },
          "metadata": {},
          "execution_count": 8
        }
      ]
    },
    {
      "cell_type": "code",
      "metadata": {
        "id": "PJKAY46IBYeu",
        "outputId": "0439ee2c-2b13-4ec5-8c15-fa43cad73d24",
        "colab": {
          "base_uri": "https://localhost:8080/"
        }
      },
      "source": [
        "#Checking whether the duplicates were deleted \n",
        "df.duplicated().sum()"
      ],
      "execution_count": 9,
      "outputs": [
        {
          "output_type": "execute_result",
          "data": {
            "text/plain": [
              "0"
            ]
          },
          "metadata": {},
          "execution_count": 9
        }
      ]
    },
    {
      "cell_type": "markdown",
      "metadata": {
        "id": "aDgjFCs3BYe4"
      },
      "source": [
        "## Data Visualisation\n",
        "\n",
        "Visualize the data to gain insights"
      ]
    },
    {
      "cell_type": "code",
      "metadata": {
        "id": "NcMJtNWPGata",
        "outputId": "0986039f-e31b-49a2-d481-df37b07126ad",
        "colab": {
          "base_uri": "https://localhost:8080/",
          "height": 312
        }
      },
      "source": [
        "#lineplot. TO DO. Plot line plot and play with markers and line width\n",
        "\n",
        "X = np.linspace(1, 20, 5)\n",
        "\n",
        "y = np.linspace(10,100,5)\n",
        "\n",
        "z = [100, 300,500,700, 1100]\n",
        "\n",
        "#plt.plot(X,y)\n",
        "#plt.plot(X,z)\n",
        "\n",
        "#plt.show()\n",
        "plt.plot(X, y, color='green', linewidth=4.0, linestyle='--', label='X and Y')\n",
        "\n",
        "plt.plot(X, z, label='X and Z')\n",
        "\n",
        "plt.xlabel('Values of X')\n",
        "plt.ylabel('Values of Y and Z')\n",
        "plt.title('X,Y and Z')\n",
        "plt.legend()"
      ],
      "execution_count": 10,
      "outputs": [
        {
          "output_type": "execute_result",
          "data": {
            "text/plain": [
              "<matplotlib.legend.Legend at 0x7fe45f9b6910>"
            ]
          },
          "metadata": {},
          "execution_count": 10
        },
        {
          "output_type": "display_data",
          "data": {
            "image/png": "[encoded data removed]",
            "text/plain": [
              "<Figure size 432x288 with 1 Axes>"
            ]
          },
          "metadata": {
            "needs_background": "light"
          }
        }
      ]
    },
    {
      "cell_type": "code",
      "metadata": {
        "id": "vBPjBZiqDPd9",
        "outputId": "308f6c76-cc26-42e4-8cda-b49643f8f8d9",
        "colab": {
          "base_uri": "https://localhost:8080/",
          "height": 268
        }
      },
      "source": [
        "#scatterplot\n",
        "\n",
        "plt.scatter(df['AmountPaid60'], df['AmountPaid360'], s= df['DailyRate'],\n",
        "            c=df['Deposit'], cmap='RdYlGn', edgecolors = 'black')\n",
        "cbar = plt.colorbar()\n",
        "cbar.set_label('Deposit')"
      ],
      "execution_count": 11,
      "outputs": [
        {
          "output_type": "display_data",
          "data": {
            "image/png": "[encoded data removed]",
            "text/plain": [
              "<Figure size 432x288 with 2 Axes>"
            ]
          },
          "metadata": {
            "needs_background": "light"
          }
        }
      ]
    },
    {
      "cell_type": "code",
      "metadata": {
        "id": "wvwvGjMyBwdJ",
        "outputId": "3f09ce27-fdc4-42f0-b3e6-97602e9d8e60",
        "colab": {
          "base_uri": "https://localhost:8080/",
          "height": 351
        }
      },
      "source": [
        "##distribution plot\n",
        "\n",
        "sns.distplot(df['AmountPaid60'])"
      ],
      "execution_count": 12,
      "outputs": [
        {
          "output_type": "stream",
          "name": "stderr",
          "text": [
            "/usr/local/lib/python3.7/dist-packages/seaborn/distributions.py:2619: FutureWarning: `distplot` is a deprecated function and will be removed in a future version. Please adapt your code to use either `displot` (a figure-level function with similar flexibility) or `histplot` (an axes-level function for histograms).\n",
            "  warnings.warn(msg, FutureWarning)\n"
          ]
        },
        {
          "output_type": "execute_result",
          "data": {
            "text/plain": [
              "<matplotlib.axes._subplots.AxesSubplot at 0x7fe44a005890>"
            ]
          },
          "metadata": {},
          "execution_count": 12
        },
        {
          "output_type": "display_data",
          "data": {
            "image/png": "[encoded data removed]",
            "text/plain": [
              "<Figure size 432x288 with 1 Axes>"
            ]
          },
          "metadata": {
            "needs_background": "light"
          }
        }
      ]
    },
    {
      "cell_type": "code",
      "metadata": {
        "id": "sKHRY5JVBzCY",
        "outputId": "5b82d139-6e82-4410-dd7f-8e1103ed900a",
        "colab": {
          "base_uri": "https://localhost:8080/",
          "height": 1000
        }
      },
      "source": [
        "#Pairplot\n",
        "\n",
        "sns.pairplot(df)"
      ],
      "execution_count": 13,
      "outputs": [
        {
          "output_type": "execute_result",
          "data": {
            "text/plain": [
              "<seaborn.axisgrid.PairGrid at 0x7fe449fea390>"
            ]
          },
          "metadata": {},
          "execution_count": 13
        },
        {
          "output_type": "display_data",
          "data": {
            "image/png": "[encoded data removed]",
            "text/plain": [
              "<Figure size 1260x1260 with 56 Axes>"
            ]
          },
          "metadata": {
            "needs_background": "light"
          }
        }
      ]
    },
    {
      "cell_type": "code",
      "metadata": {
        "id": "ganOjp7MBYfF",
        "outputId": "ca435d02-cd4a-403a-d1dc-5fe99de93143",
        "colab": {
          "base_uri": "https://localhost:8080/",
          "height": 351
        }
      },
      "source": [
        "#Countplot\n",
        "sns.countplot('CustomerGender' , hue = 'LoanStatus360', data = df )\n"
      ],
      "execution_count": 14,
      "outputs": [
        {
          "output_type": "stream",
          "name": "stderr",
          "text": [
            "/usr/local/lib/python3.7/dist-packages/seaborn/_decorators.py:43: FutureWarning: Pass the following variable as a keyword arg: x. From version 0.12, the only valid positional argument will be `data`, and passing other arguments without an explicit keyword will result in an error or misinterpretation.\n",
            "  FutureWarning\n"
          ]
        },
        {
          "output_type": "execute_result",
          "data": {
            "text/plain": [
              "<matplotlib.axes._subplots.AxesSubplot at 0x7fe43e6c4d10>"
            ]
          },
          "metadata": {},
          "execution_count": 14
        },
        {
          "output_type": "display_data",
          "data": {
            "image/png": "[encoded data removed]",
            "text/plain": [
              "<Figure size 432x288 with 1 Axes>"
            ]
          },
          "metadata": {
            "needs_background": "light"
          }
        }
      ]
    },
    {
      "cell_type": "code",
      "metadata": {
        "id": "W6Y7ujcvBYfS",
        "outputId": "f8033e72-3dc0-4684-daa4-056838f60513",
        "colab": {
          "base_uri": "https://localhost:8080/",
          "height": 353
        }
      },
      "source": [
        "sns.countplot('CustomerGender' , hue = 'Product', data = df)\n"
      ],
      "execution_count": 15,
      "outputs": [
        {
          "output_type": "stream",
          "name": "stderr",
          "text": [
            "/usr/local/lib/python3.7/dist-packages/seaborn/_decorators.py:43: FutureWarning: Pass the following variable as a keyword arg: x. From version 0.12, the only valid positional argument will be `data`, and passing other arguments without an explicit keyword will result in an error or misinterpretation.\n",
            "  FutureWarning\n"
          ]
        },
        {
          "output_type": "execute_result",
          "data": {
            "text/plain": [
              "<matplotlib.axes._subplots.AxesSubplot at 0x7fe43db9d310>"
            ]
          },
          "metadata": {},
          "execution_count": 15
        },
        {
          "output_type": "display_data",
          "data": {
            "image/png": "[encoded data removed]",
            "text/plain": [
              "<Figure size 432x288 with 1 Axes>"
            ]
          },
          "metadata": {
            "needs_background": "light"
          }
        }
      ]
    },
    {
      "cell_type": "markdown",
      "metadata": {
        "id": "MvUqBCZVBYfY"
      },
      "source": [
        "Product C was most popular amongst those who did not specify their gender\n"
      ]
    },
    {
      "cell_type": "code",
      "metadata": {
        "id": "kIiJHYD3Mpoc",
        "outputId": "f1772847-e230-4030-d024-9d16d1c855e6",
        "colab": {
          "base_uri": "https://localhost:8080/",
          "height": 351
        }
      },
      "source": [
        "sns.countplot('LoanStatus360', hue ='Product', data=df)"
      ],
      "execution_count": 16,
      "outputs": [
        {
          "output_type": "stream",
          "name": "stderr",
          "text": [
            "/usr/local/lib/python3.7/dist-packages/seaborn/_decorators.py:43: FutureWarning: Pass the following variable as a keyword arg: x. From version 0.12, the only valid positional argument will be `data`, and passing other arguments without an explicit keyword will result in an error or misinterpretation.\n",
            "  FutureWarning\n"
          ]
        },
        {
          "output_type": "execute_result",
          "data": {
            "text/plain": [
              "<matplotlib.axes._subplots.AxesSubplot at 0x7fe43da3a4d0>"
            ]
          },
          "metadata": {},
          "execution_count": 16
        },
        {
          "output_type": "display_data",
          "data": {
            "image/png": "[encoded data removed]",
            "text/plain": [
              "<Figure size 432x288 with 1 Axes>"
            ]
          },
          "metadata": {
            "needs_background": "light"
          }
        }
      ]
    },
    {
      "cell_type": "code",
      "metadata": {
        "id": "1drO6bXIBYfZ",
        "outputId": "eae97dc1-551a-4600-ce78-b8ed449769b7",
        "colab": {
          "base_uri": "https://localhost:8080/",
          "height": 530
        }
      },
      "source": [
        "#Adjusting size\n",
        "plt.figure(figsize=(12,7))\n",
        "\n",
        "sns.countplot('Product', hue='LoanStatus360', data = df).set(title= 'Product and Loan Status', ylabel = 'Product count')\n",
        "\n"
      ],
      "execution_count": 17,
      "outputs": [
        {
          "output_type": "stream",
          "name": "stderr",
          "text": [
            "/usr/local/lib/python3.7/dist-packages/seaborn/_decorators.py:43: FutureWarning: Pass the following variable as a keyword arg: x. From version 0.12, the only valid positional argument will be `data`, and passing other arguments without an explicit keyword will result in an error or misinterpretation.\n",
            "  FutureWarning\n"
          ]
        },
        {
          "output_type": "execute_result",
          "data": {
            "text/plain": [
              "[Text(0, 0.5, 'Product count'), Text(0.5, 1.0, 'Product and Loan Status')]"
            ]
          },
          "metadata": {},
          "execution_count": 17
        },
        {
          "output_type": "display_data",
          "data": {
            "image/png": "[encoded data removed]",
            "text/plain": [
              "<Figure size 864x504 with 1 Axes>"
            ]
          },
          "metadata": {
            "needs_background": "light"
          }
        }
      ]
    },
    {
      "cell_type": "code",
      "metadata": {
        "id": "SF9XHzcgBYfj",
        "outputId": "c24d425d-6ba5-40b2-edce-b5f77d90e0ca",
        "colab": {
          "base_uri": "https://localhost:8080/",
          "height": 352
        }
      },
      "source": [
        "sns.countplot('Product' , data = df)"
      ],
      "execution_count": 18,
      "outputs": [
        {
          "output_type": "stream",
          "name": "stderr",
          "text": [
            "/usr/local/lib/python3.7/dist-packages/seaborn/_decorators.py:43: FutureWarning: Pass the following variable as a keyword arg: x. From version 0.12, the only valid positional argument will be `data`, and passing other arguments without an explicit keyword will result in an error or misinterpretation.\n",
            "  FutureWarning\n"
          ]
        },
        {
          "output_type": "execute_result",
          "data": {
            "text/plain": [
              "<matplotlib.axes._subplots.AxesSubplot at 0x7fe43c002ed0>"
            ]
          },
          "metadata": {},
          "execution_count": 18
        },
        {
          "output_type": "display_data",
          "data": {
            "image/png": "[encoded data removed]",
            "text/plain": [
              "<Figure size 432x288 with 1 Axes>"
            ]
          },
          "metadata": {
            "needs_background": "light"
          }
        }
      ]
    },
    {
      "cell_type": "code",
      "metadata": {
        "id": "m_H6wqazBYfm"
      },
      "source": [
        "#Product B is the most popular followed by Product A\n",
        "#Product F is the least popular followed by Product E"
      ],
      "execution_count": 19,
      "outputs": []
    },
    {
      "cell_type": "code",
      "metadata": {
        "id": "yyHwGrmfBYfp",
        "outputId": "530fb652-1ee8-43bb-e8ad-da02a38f33a7",
        "colab": {
          "base_uri": "https://localhost:8080/",
          "height": 347
        }
      },
      "source": [
        " #Barplot\n",
        " sns.barplot(x = 'Product', y = 'TotalPrice', data = df).set(xlabel=' Product',\n",
        "      ylabel='Price',\n",
        "      title='Price vs Product')\n",
        "\n"
      ],
      "execution_count": 20,
      "outputs": [
        {
          "output_type": "execute_result",
          "data": {
            "text/plain": [
              "[Text(0, 0.5, 'Price'),\n",
              " Text(0.5, 0, ' Product'),\n",
              " Text(0.5, 1.0, 'Price vs Product')]"
            ]
          },
          "metadata": {},
          "execution_count": 20
        },
        {
          "output_type": "display_data",
          "data": {
            "image/png": "[encoded data removed]",
            "text/plain": [
              "<Figure size 432x288 with 1 Axes>"
            ]
          },
          "metadata": {
            "needs_background": "light"
          }
        }
      ]
    },
    {
      "cell_type": "markdown",
      "metadata": {
        "id": "3QpSfYaGBYfu"
      },
      "source": [
        "Product F is the highest priced followed by E which accounts for their low popularity\n",
        "Product C is the lowest priced \n",
        "Product B is the 2nd cheapest which accounts for its popularity\n",
        "Product A is moderately priced which accounts for its popularity"
      ]
    },
    {
      "cell_type": "code",
      "metadata": {
        "id": "nGMEAVHtBYfu",
        "outputId": "176a6395-ba05-4aad-e8b0-c9021905f0b7",
        "colab": {
          "base_uri": "https://localhost:8080/",
          "height": 295
        }
      },
      "source": [
        "ax = sns.barplot(x = 'Product', y = 'Deposit', data = df, ci = None, estimator = np.median)\n",
        "ax.set(xlabel=' Product',\n",
        "       ylabel='Deposit',\n",
        "       title='Deposit vs Product')\n",
        "plt.show()"
      ],
      "execution_count": 21,
      "outputs": [
        {
          "output_type": "display_data",
          "data": {
            "image/png": "[encoded data removed]",
            "text/plain": [
              "<Figure size 432x288 with 1 Axes>"
            ]
          },
          "metadata": {
            "needs_background": "light"
          }
        }
      ]
    },
    {
      "cell_type": "code",
      "metadata": {
        "id": "RJN6gt5vBYfx",
        "outputId": "6ef76201-09b9-4cb0-9bcb-dab54ca65ec8",
        "colab": {
          "base_uri": "https://localhost:8080/",
          "height": 295
        }
      },
      "source": [
        "ax = sns.barplot(x = 'Product', y = 'DailyRate', data = df, ci = None, estimator = np.median)\n",
        "ax.set(xlabel=' Product',\n",
        "       ylabel='DailyRate',\n",
        "       title='DailyRate vs Product')\n",
        "plt.show()"
      ],
      "execution_count": 22,
      "outputs": [
        {
          "output_type": "display_data",
          "data": {
            "image/png": "[encoded data removed]",
            "text/plain": [
              "<Figure size 432x288 with 1 Axes>"
            ]
          },
          "metadata": {
            "needs_background": "light"
          }
        }
      ]
    },
    {
      "cell_type": "markdown",
      "metadata": {
        "id": "8jX0z6hmBYf0"
      },
      "source": [
        "Products B and C have the lowest daily rates\n",
        "Products E and F have the highest daily rates"
      ]
    },
    {
      "cell_type": "code",
      "metadata": {
        "id": "Qegvmc95FVXA",
        "outputId": "f238d7a0-b3e1-46fe-ea78-c648742bdd4b",
        "colab": {
          "base_uri": "https://localhost:8080/",
          "height": 351
        }
      },
      "source": [
        "#boxplot\n",
        "\n",
        "sns.boxplot(df['AmountPaid60'])"
      ],
      "execution_count": 23,
      "outputs": [
        {
          "output_type": "stream",
          "name": "stderr",
          "text": [
            "/usr/local/lib/python3.7/dist-packages/seaborn/_decorators.py:43: FutureWarning: Pass the following variable as a keyword arg: x. From version 0.12, the only valid positional argument will be `data`, and passing other arguments without an explicit keyword will result in an error or misinterpretation.\n",
            "  FutureWarning\n"
          ]
        },
        {
          "output_type": "execute_result",
          "data": {
            "text/plain": [
              "<matplotlib.axes._subplots.AxesSubplot at 0x7fe43bdec990>"
            ]
          },
          "metadata": {},
          "execution_count": 23
        },
        {
          "output_type": "display_data",
          "data": {
            "image/png": "[encoded data removed]",
            "text/plain": [
              "<Figure size 432x288 with 1 Axes>"
            ]
          },
          "metadata": {
            "needs_background": "light"
          }
        }
      ]
    },
    {
      "cell_type": "code",
      "metadata": {
        "id": "wky2NhXmKDa5",
        "outputId": "4944d02b-6be0-4366-84e0-a9050ac5855e",
        "colab": {
          "base_uri": "https://localhost:8080/",
          "height": 355
        }
      },
      "source": [
        "#Heatmap\n",
        "\n",
        "corr_matrix = df.corr()\n",
        "sns.heatmap(corr_matrix, annot=True)\n"
      ],
      "execution_count": 24,
      "outputs": [
        {
          "output_type": "execute_result",
          "data": {
            "text/plain": [
              "<matplotlib.axes._subplots.AxesSubplot at 0x7fe43bd76bd0>"
            ]
          },
          "metadata": {},
          "execution_count": 24
        },
        {
          "output_type": "display_data",
          "data": {
            "image/png": "[encoded data removed]",
            "text/plain": [
              "<Figure size 432x288 with 2 Axes>"
            ]
          },
          "metadata": {
            "needs_background": "light"
          }
        }
      ]
    },
    {
      "cell_type": "markdown",
      "metadata": {
        "id": "A-UAjU0RBYgH"
      },
      "source": [
        "## Feature Engineering"
      ]
    },
    {
      "cell_type": "code",
      "metadata": {
        "id": "0qIOP_egBYgI",
        "outputId": "799b1506-71c9-4205-b678-22e87c361c7d",
        "colab": {
          "base_uri": "https://localhost:8080/",
          "height": 357
        }
      },
      "source": [
        "df.head()"
      ],
      "execution_count": 25,
      "outputs": [
        {
          "output_type": "execute_result",
          "data": {
            "text/html": [
              "\n",
              "  <div id=\"df-ed96d508-d84d-4a37-bedd-137f720f7b45\">\n",
              "    <div class=\"colab-df-container\">\n",
              "      <div>\n",
              "<style scoped>\n",
              "    .dataframe tbody tr th:only-of-type {\n",
              "        vertical-align: middle;\n",
              "    }\n",
              "\n",
              "    .dataframe tbody tr th {\n",
              "        vertical-align: top;\n",
              "    }\n",
              "\n",
              "    .dataframe thead th {\n",
              "        text-align: right;\n",
              "    }\n",
              "</style>\n",
              "<table border=\"1\" class=\"dataframe\">\n",
              "  <thead>\n",
              "    <tr style=\"text-align: right;\">\n",
              "      <th></th>\n",
              "      <th>Product</th>\n",
              "      <th>CustomerGender</th>\n",
              "      <th>Location</th>\n",
              "      <th>Region</th>\n",
              "      <th>TotalPrice</th>\n",
              "      <th>StartDate</th>\n",
              "      <th>Deposit</th>\n",
              "      <th>DailyRate</th>\n",
              "      <th>TotalDays</th>\n",
              "      <th>AmountPaid30</th>\n",
              "      <th>AmountPaid60</th>\n",
              "      <th>AmountPaid360</th>\n",
              "      <th>LoanStatus360</th>\n",
              "    </tr>\n",
              "  </thead>\n",
              "  <tbody>\n",
              "    <tr>\n",
              "      <th>0</th>\n",
              "      <td>Product B</td>\n",
              "      <td>Male</td>\n",
              "      <td>Location 2</td>\n",
              "      <td>Region 2</td>\n",
              "      <td>16600</td>\n",
              "      <td>2014-07-04</td>\n",
              "      <td>2000</td>\n",
              "      <td>40</td>\n",
              "      <td>365</td>\n",
              "      <td>3121</td>\n",
              "      <td>4241</td>\n",
              "      <td>13621</td>\n",
              "      <td>Active</td>\n",
              "    </tr>\n",
              "    <tr>\n",
              "      <th>1</th>\n",
              "      <td>Product B</td>\n",
              "      <td>Male</td>\n",
              "      <td>Location 3</td>\n",
              "      <td>Region 3</td>\n",
              "      <td>16600</td>\n",
              "      <td>2015-01-02</td>\n",
              "      <td>2000</td>\n",
              "      <td>40</td>\n",
              "      <td>365</td>\n",
              "      <td>3061</td>\n",
              "      <td>4171</td>\n",
              "      <td>15041</td>\n",
              "      <td>Active</td>\n",
              "    </tr>\n",
              "    <tr>\n",
              "      <th>2</th>\n",
              "      <td>Product C</td>\n",
              "      <td>Female</td>\n",
              "      <td>Location 5</td>\n",
              "      <td>Region 5</td>\n",
              "      <td>15600</td>\n",
              "      <td>2012-12-08</td>\n",
              "      <td>1000</td>\n",
              "      <td>40</td>\n",
              "      <td>365</td>\n",
              "      <td>2160</td>\n",
              "      <td>3280</td>\n",
              "      <td>15340</td>\n",
              "      <td>Active</td>\n",
              "    </tr>\n",
              "    <tr>\n",
              "      <th>3</th>\n",
              "      <td>Product B</td>\n",
              "      <td>Male</td>\n",
              "      <td>Location 6</td>\n",
              "      <td>Region 1</td>\n",
              "      <td>16600</td>\n",
              "      <td>2015-02-20</td>\n",
              "      <td>2000</td>\n",
              "      <td>40</td>\n",
              "      <td>365</td>\n",
              "      <td>3041</td>\n",
              "      <td>4241</td>\n",
              "      <td>15321</td>\n",
              "      <td>Active</td>\n",
              "    </tr>\n",
              "    <tr>\n",
              "      <th>4</th>\n",
              "      <td>Product D</td>\n",
              "      <td>Female</td>\n",
              "      <td>Location 7</td>\n",
              "      <td>Region 2</td>\n",
              "      <td>20250</td>\n",
              "      <td>2013-10-28</td>\n",
              "      <td>2000</td>\n",
              "      <td>50</td>\n",
              "      <td>365</td>\n",
              "      <td>3470</td>\n",
              "      <td>4820</td>\n",
              "      <td>13720</td>\n",
              "      <td>Active</td>\n",
              "    </tr>\n",
              "  </tbody>\n",
              "</table>\n",
              "</div>\n",
              "      <button class=\"colab-df-convert\" onclick=\"convertToInteractive('df-ed96d508-d84d-4a37-bedd-137f720f7b45')\"\n",
              "              title=\"Convert this dataframe to an interactive table.\"\n",
              "              style=\"display:none;\">\n",
              "        \n",
              "  <svg xmlns=\"http://www.w3.org/2000/svg\" height=\"24px\"viewBox=\"0 0 24 24\"\n",
              "       width=\"24px\">\n",
              "    <path d=\"M0 0h24v24H0V0z\" fill=\"none\"/>\n",
              "    <path d=\"M18.56 5.44l.94 2.06.94-2.06 2.06-.94-2.06-.94-.94-2.06-.94 2.06-2.06.94zm-11 1L8.5 8.5l.94-2.06 2.06-.94-2.06-.94L8.5 2.5l-.94 2.06-2.06.94zm10 10l.94 2.06.94-2.06 2.06-.94-2.06-.94-.94-2.06-.94 2.06-2.06.94z\"/><path d=\"M17.41 7.96l-1.37-1.37c-.4-.4-.92-.59-1.43-.59-.52 0-1.04.2-1.43.59L10.3 9.45l-7.72 7.72c-.78.78-.78 2.05 0 2.83L4 21.41c.39.39.9.59 1.41.59.51 0 1.02-.2 1.41-.59l7.78-7.78 2.81-2.81c.8-.78.8-2.07 0-2.86zM5.41 20L4 18.59l7.72-7.72 1.47 1.35L5.41 20z\"/>\n",
              "  </svg>\n",
              "      </button>\n",
              "      \n",
              "  <style>\n",
              "    .colab-df-container {\n",
              "      display:flex;\n",
              "      flex-wrap:wrap;\n",
              "      gap: 12px;\n",
              "    }\n",
              "\n",
              "    .colab-df-convert {\n",
              "      background-color: #E8F0FE;\n",
              "      border: none;\n",
              "      border-radius: 50%;\n",
              "      cursor: pointer;\n",
              "      display: none;\n",
              "      fill: #1967D2;\n",
              "      height: 32px;\n",
              "      padding: 0 0 0 0;\n",
              "      width: 32px;\n",
              "    }\n",
              "\n",
              "    .colab-df-convert:hover {\n",
              "      background-color: #E2EBFA;\n",
              "      box-shadow: 0px 1px 2px rgba(60, 64, 67, 0.3), 0px 1px 3px 1px rgba(60, 64, 67, 0.15);\n",
              "      fill: #174EA6;\n",
              "    }\n",
              "\n",
              "    [theme=dark] .colab-df-convert {\n",
              "      background-color: #3B4455;\n",
              "      fill: #D2E3FC;\n",
              "    }\n",
              "\n",
              "    [theme=dark] .colab-df-convert:hover {\n",
              "      background-color: #434B5C;\n",
              "      box-shadow: 0px 1px 3px 1px rgba(0, 0, 0, 0.15);\n",
              "      filter: drop-shadow(0px 1px 2px rgba(0, 0, 0, 0.3));\n",
              "      fill: #FFFFFF;\n",
              "    }\n",
              "  </style>\n",
              "\n",
              "      <script>\n",
              "        const buttonEl =\n",
              "          document.querySelector('#df-ed96d508-d84d-4a37-bedd-137f720f7b45 button.colab-df-convert');\n",
              "        buttonEl.style.display =\n",
              "          google.colab.kernel.accessAllowed ? 'block' : 'none';\n",
              "\n",
              "        async function convertToInteractive(key) {\n",
              "          const element = document.querySelector('#df-ed96d508-d84d-4a37-bedd-137f720f7b45');\n",
              "          const dataTable =\n",
              "            await google.colab.kernel.invokeFunction('convertToInteractive',\n",
              "                                                     [key], {});\n",
              "          if (!dataTable) return;\n",
              "\n",
              "          const docLinkHtml = 'Like what you see? Visit the ' +\n",
              "            '<a target=\"_blank\" href=https://colab.research.google.com/notebooks/data_table.ipynb>data table notebook</a>'\n",
              "            + ' to learn more about interactive tables.';\n",
              "          element.innerHTML = '';\n",
              "          dataTable['output_type'] = 'display_data';\n",
              "          await google.colab.output.renderOutput(dataTable, element);\n",
              "          const docLink = document.createElement('div');\n",
              "          docLink.innerHTML = docLinkHtml;\n",
              "          element.appendChild(docLink);\n",
              "        }\n",
              "      </script>\n",
              "    </div>\n",
              "  </div>\n",
              "  "
            ],
            "text/plain": [
              "     Product CustomerGender    Location    Region  TotalPrice  StartDate  \\\n",
              "0  Product B           Male  Location 2  Region 2       16600 2014-07-04   \n",
              "1  Product B           Male  Location 3  Region 3       16600 2015-01-02   \n",
              "2  Product C         Female  Location 5  Region 5       15600 2012-12-08   \n",
              "3  Product B           Male  Location 6  Region 1       16600 2015-02-20   \n",
              "4  Product D         Female  Location 7  Region 2       20250 2013-10-28   \n",
              "\n",
              "   Deposit  DailyRate  TotalDays  AmountPaid30  AmountPaid60  AmountPaid360  \\\n",
              "0     2000         40        365          3121          4241          13621   \n",
              "1     2000         40        365          3061          4171          15041   \n",
              "2     1000         40        365          2160          3280          15340   \n",
              "3     2000         40        365          3041          4241          15321   \n",
              "4     2000         50        365          3470          4820          13720   \n",
              "\n",
              "  LoanStatus360  \n",
              "0        Active  \n",
              "1        Active  \n",
              "2        Active  \n",
              "3        Active  \n",
              "4        Active  "
            ]
          },
          "metadata": {},
          "execution_count": 25
        }
      ]
    },
    {
      "cell_type": "code",
      "metadata": {
        "id": "95naO38FBYgM"
      },
      "source": [
        "#Drop columns that we will not use\n",
        "df.drop(['TotalPrice','TotalDays', 'StartDate','AmountPaid60', 'Location'], axis = 1, inplace = True)"
      ],
      "execution_count": 26,
      "outputs": []
    },
    {
      "cell_type": "code",
      "metadata": {
        "id": "Lmh0o2QJBYgQ",
        "outputId": "56a60589-02d9-4f6f-90a6-12cfac5b355b",
        "colab": {
          "base_uri": "https://localhost:8080/",
          "height": 206
        }
      },
      "source": [
        "df.head()"
      ],
      "execution_count": 27,
      "outputs": [
        {
          "output_type": "execute_result",
          "data": {
            "text/html": [
              "\n",
              "  <div id=\"df-839ccf3c-3430-49f1-a850-d0cea2b0214f\">\n",
              "    <div class=\"colab-df-container\">\n",
              "      <div>\n",
              "<style scoped>\n",
              "    .dataframe tbody tr th:only-of-type {\n",
              "        vertical-align: middle;\n",
              "    }\n",
              "\n",
              "    .dataframe tbody tr th {\n",
              "        vertical-align: top;\n",
              "    }\n",
              "\n",
              "    .dataframe thead th {\n",
              "        text-align: right;\n",
              "    }\n",
              "</style>\n",
              "<table border=\"1\" class=\"dataframe\">\n",
              "  <thead>\n",
              "    <tr style=\"text-align: right;\">\n",
              "      <th></th>\n",
              "      <th>Product</th>\n",
              "      <th>CustomerGender</th>\n",
              "      <th>Region</th>\n",
              "      <th>Deposit</th>\n",
              "      <th>DailyRate</th>\n",
              "      <th>AmountPaid30</th>\n",
              "      <th>AmountPaid360</th>\n",
              "      <th>LoanStatus360</th>\n",
              "    </tr>\n",
              "  </thead>\n",
              "  <tbody>\n",
              "    <tr>\n",
              "      <th>0</th>\n",
              "      <td>Product B</td>\n",
              "      <td>Male</td>\n",
              "      <td>Region 2</td>\n",
              "      <td>2000</td>\n",
              "      <td>40</td>\n",
              "      <td>3121</td>\n",
              "      <td>13621</td>\n",
              "      <td>Active</td>\n",
              "    </tr>\n",
              "    <tr>\n",
              "      <th>1</th>\n",
              "      <td>Product B</td>\n",
              "      <td>Male</td>\n",
              "      <td>Region 3</td>\n",
              "      <td>2000</td>\n",
              "      <td>40</td>\n",
              "      <td>3061</td>\n",
              "      <td>15041</td>\n",
              "      <td>Active</td>\n",
              "    </tr>\n",
              "    <tr>\n",
              "      <th>2</th>\n",
              "      <td>Product C</td>\n",
              "      <td>Female</td>\n",
              "      <td>Region 5</td>\n",
              "      <td>1000</td>\n",
              "      <td>40</td>\n",
              "      <td>2160</td>\n",
              "      <td>15340</td>\n",
              "      <td>Active</td>\n",
              "    </tr>\n",
              "    <tr>\n",
              "      <th>3</th>\n",
              "      <td>Product B</td>\n",
              "      <td>Male</td>\n",
              "      <td>Region 1</td>\n",
              "      <td>2000</td>\n",
              "      <td>40</td>\n",
              "      <td>3041</td>\n",
              "      <td>15321</td>\n",
              "      <td>Active</td>\n",
              "    </tr>\n",
              "    <tr>\n",
              "      <th>4</th>\n",
              "      <td>Product D</td>\n",
              "      <td>Female</td>\n",
              "      <td>Region 2</td>\n",
              "      <td>2000</td>\n",
              "      <td>50</td>\n",
              "      <td>3470</td>\n",
              "      <td>13720</td>\n",
              "      <td>Active</td>\n",
              "    </tr>\n",
              "  </tbody>\n",
              "</table>\n",
              "</div>\n",
              "      <button class=\"colab-df-convert\" onclick=\"convertToInteractive('df-839ccf3c-3430-49f1-a850-d0cea2b0214f')\"\n",
              "              title=\"Convert this dataframe to an interactive table.\"\n",
              "              style=\"display:none;\">\n",
              "        \n",
              "  <svg xmlns=\"http://www.w3.org/2000/svg\" height=\"24px\"viewBox=\"0 0 24 24\"\n",
              "       width=\"24px\">\n",
              "    <path d=\"M0 0h24v24H0V0z\" fill=\"none\"/>\n",
              "    <path d=\"M18.56 5.44l.94 2.06.94-2.06 2.06-.94-2.06-.94-.94-2.06-.94 2.06-2.06.94zm-11 1L8.5 8.5l.94-2.06 2.06-.94-2.06-.94L8.5 2.5l-.94 2.06-2.06.94zm10 10l.94 2.06.94-2.06 2.06-.94-2.06-.94-.94-2.06-.94 2.06-2.06.94z\"/><path d=\"M17.41 7.96l-1.37-1.37c-.4-.4-.92-.59-1.43-.59-.52 0-1.04.2-1.43.59L10.3 9.45l-7.72 7.72c-.78.78-.78 2.05 0 2.83L4 21.41c.39.39.9.59 1.41.59.51 0 1.02-.2 1.41-.59l7.78-7.78 2.81-2.81c.8-.78.8-2.07 0-2.86zM5.41 20L4 18.59l7.72-7.72 1.47 1.35L5.41 20z\"/>\n",
              "  </svg>\n",
              "      </button>\n",
              "      \n",
              "  <style>\n",
              "    .colab-df-container {\n",
              "      display:flex;\n",
              "      flex-wrap:wrap;\n",
              "      gap: 12px;\n",
              "    }\n",
              "\n",
              "    .colab-df-convert {\n",
              "      background-color: #E8F0FE;\n",
              "      border: none;\n",
              "      border-radius: 50%;\n",
              "      cursor: pointer;\n",
              "      display: none;\n",
              "      fill: #1967D2;\n",
              "      height: 32px;\n",
              "      padding: 0 0 0 0;\n",
              "      width: 32px;\n",
              "    }\n",
              "\n",
              "    .colab-df-convert:hover {\n",
              "      background-color: #E2EBFA;\n",
              "      box-shadow: 0px 1px 2px rgba(60, 64, 67, 0.3), 0px 1px 3px 1px rgba(60, 64, 67, 0.15);\n",
              "      fill: #174EA6;\n",
              "    }\n",
              "\n",
              "    [theme=dark] .colab-df-convert {\n",
              "      background-color: #3B4455;\n",
              "      fill: #D2E3FC;\n",
              "    }\n",
              "\n",
              "    [theme=dark] .colab-df-convert:hover {\n",
              "      background-color: #434B5C;\n",
              "      box-shadow: 0px 1px 3px 1px rgba(0, 0, 0, 0.15);\n",
              "      filter: drop-shadow(0px 1px 2px rgba(0, 0, 0, 0.3));\n",
              "      fill: #FFFFFF;\n",
              "    }\n",
              "  </style>\n",
              "\n",
              "      <script>\n",
              "        const buttonEl =\n",
              "          document.querySelector('#df-839ccf3c-3430-49f1-a850-d0cea2b0214f button.colab-df-convert');\n",
              "        buttonEl.style.display =\n",
              "          google.colab.kernel.accessAllowed ? 'block' : 'none';\n",
              "\n",
              "        async function convertToInteractive(key) {\n",
              "          const element = document.querySelector('#df-839ccf3c-3430-49f1-a850-d0cea2b0214f');\n",
              "          const dataTable =\n",
              "            await google.colab.kernel.invokeFunction('convertToInteractive',\n",
              "                                                     [key], {});\n",
              "          if (!dataTable) return;\n",
              "\n",
              "          const docLinkHtml = 'Like what you see? Visit the ' +\n",
              "            '<a target=\"_blank\" href=https://colab.research.google.com/notebooks/data_table.ipynb>data table notebook</a>'\n",
              "            + ' to learn more about interactive tables.';\n",
              "          element.innerHTML = '';\n",
              "          dataTable['output_type'] = 'display_data';\n",
              "          await google.colab.output.renderOutput(dataTable, element);\n",
              "          const docLink = document.createElement('div');\n",
              "          docLink.innerHTML = docLinkHtml;\n",
              "          element.appendChild(docLink);\n",
              "        }\n",
              "      </script>\n",
              "    </div>\n",
              "  </div>\n",
              "  "
            ],
            "text/plain": [
              "     Product CustomerGender    Region  Deposit  DailyRate  AmountPaid30  \\\n",
              "0  Product B           Male  Region 2     2000         40          3121   \n",
              "1  Product B           Male  Region 3     2000         40          3061   \n",
              "2  Product C         Female  Region 5     1000         40          2160   \n",
              "3  Product B           Male  Region 1     2000         40          3041   \n",
              "4  Product D         Female  Region 2     2000         50          3470   \n",
              "\n",
              "   AmountPaid360 LoanStatus360  \n",
              "0          13621        Active  \n",
              "1          15041        Active  \n",
              "2          15340        Active  \n",
              "3          15321        Active  \n",
              "4          13720        Active  "
            ]
          },
          "metadata": {},
          "execution_count": 27
        }
      ]
    },
    {
      "cell_type": "code",
      "metadata": {
        "id": "tfUMq1uGBYgW"
      },
      "source": [
        "#Change our categorical columns into numerical columns\n",
        "#One hot encode Customer gender\n",
        "df = pd.get_dummies(df, columns=['CustomerGender'])"
      ],
      "execution_count": 28,
      "outputs": []
    },
    {
      "cell_type": "code",
      "metadata": {
        "id": "8Pk8fHT31N_u",
        "outputId": "27af4733-a7e9-4c6b-a8a6-6c92f0228ddc",
        "colab": {
          "base_uri": "https://localhost:8080/",
          "height": 357
        }
      },
      "source": [
        "df.head()"
      ],
      "execution_count": 29,
      "outputs": [
        {
          "output_type": "execute_result",
          "data": {
            "text/html": [
              "\n",
              "  <div id=\"df-9ef6c015-c3f6-465e-bb21-9252c3852d42\">\n",
              "    <div class=\"colab-df-container\">\n",
              "      <div>\n",
              "<style scoped>\n",
              "    .dataframe tbody tr th:only-of-type {\n",
              "        vertical-align: middle;\n",
              "    }\n",
              "\n",
              "    .dataframe tbody tr th {\n",
              "        vertical-align: top;\n",
              "    }\n",
              "\n",
              "    .dataframe thead th {\n",
              "        text-align: right;\n",
              "    }\n",
              "</style>\n",
              "<table border=\"1\" class=\"dataframe\">\n",
              "  <thead>\n",
              "    <tr style=\"text-align: right;\">\n",
              "      <th></th>\n",
              "      <th>Product</th>\n",
              "      <th>Region</th>\n",
              "      <th>Deposit</th>\n",
              "      <th>DailyRate</th>\n",
              "      <th>AmountPaid30</th>\n",
              "      <th>AmountPaid360</th>\n",
              "      <th>LoanStatus360</th>\n",
              "      <th>CustomerGender_Female</th>\n",
              "      <th>CustomerGender_Male</th>\n",
              "      <th>CustomerGender_NotSpecified</th>\n",
              "    </tr>\n",
              "  </thead>\n",
              "  <tbody>\n",
              "    <tr>\n",
              "      <th>0</th>\n",
              "      <td>Product B</td>\n",
              "      <td>Region 2</td>\n",
              "      <td>2000</td>\n",
              "      <td>40</td>\n",
              "      <td>3121</td>\n",
              "      <td>13621</td>\n",
              "      <td>Active</td>\n",
              "      <td>0</td>\n",
              "      <td>1</td>\n",
              "      <td>0</td>\n",
              "    </tr>\n",
              "    <tr>\n",
              "      <th>1</th>\n",
              "      <td>Product B</td>\n",
              "      <td>Region 3</td>\n",
              "      <td>2000</td>\n",
              "      <td>40</td>\n",
              "      <td>3061</td>\n",
              "      <td>15041</td>\n",
              "      <td>Active</td>\n",
              "      <td>0</td>\n",
              "      <td>1</td>\n",
              "      <td>0</td>\n",
              "    </tr>\n",
              "    <tr>\n",
              "      <th>2</th>\n",
              "      <td>Product C</td>\n",
              "      <td>Region 5</td>\n",
              "      <td>1000</td>\n",
              "      <td>40</td>\n",
              "      <td>2160</td>\n",
              "      <td>15340</td>\n",
              "      <td>Active</td>\n",
              "      <td>1</td>\n",
              "      <td>0</td>\n",
              "      <td>0</td>\n",
              "    </tr>\n",
              "    <tr>\n",
              "      <th>3</th>\n",
              "      <td>Product B</td>\n",
              "      <td>Region 1</td>\n",
              "      <td>2000</td>\n",
              "      <td>40</td>\n",
              "      <td>3041</td>\n",
              "      <td>15321</td>\n",
              "      <td>Active</td>\n",
              "      <td>0</td>\n",
              "      <td>1</td>\n",
              "      <td>0</td>\n",
              "    </tr>\n",
              "    <tr>\n",
              "      <th>4</th>\n",
              "      <td>Product D</td>\n",
              "      <td>Region 2</td>\n",
              "      <td>2000</td>\n",
              "      <td>50</td>\n",
              "      <td>3470</td>\n",
              "      <td>13720</td>\n",
              "      <td>Active</td>\n",
              "      <td>1</td>\n",
              "      <td>0</td>\n",
              "      <td>0</td>\n",
              "    </tr>\n",
              "  </tbody>\n",
              "</table>\n",
              "</div>\n",
              "      <button class=\"colab-df-convert\" onclick=\"convertToInteractive('df-9ef6c015-c3f6-465e-bb21-9252c3852d42')\"\n",
              "              title=\"Convert this dataframe to an interactive table.\"\n",
              "              style=\"display:none;\">\n",
              "        \n",
              "  <svg xmlns=\"http://www.w3.org/2000/svg\" height=\"24px\"viewBox=\"0 0 24 24\"\n",
              "       width=\"24px\">\n",
              "    <path d=\"M0 0h24v24H0V0z\" fill=\"none\"/>\n",
              "    <path d=\"M18.56 5.44l.94 2.06.94-2.06 2.06-.94-2.06-.94-.94-2.06-.94 2.06-2.06.94zm-11 1L8.5 8.5l.94-2.06 2.06-.94-2.06-.94L8.5 2.5l-.94 2.06-2.06.94zm10 10l.94 2.06.94-2.06 2.06-.94-2.06-.94-.94-2.06-.94 2.06-2.06.94z\"/><path d=\"M17.41 7.96l-1.37-1.37c-.4-.4-.92-.59-1.43-.59-.52 0-1.04.2-1.43.59L10.3 9.45l-7.72 7.72c-.78.78-.78 2.05 0 2.83L4 21.41c.39.39.9.59 1.41.59.51 0 1.02-.2 1.41-.59l7.78-7.78 2.81-2.81c.8-.78.8-2.07 0-2.86zM5.41 20L4 18.59l7.72-7.72 1.47 1.35L5.41 20z\"/>\n",
              "  </svg>\n",
              "      </button>\n",
              "      \n",
              "  <style>\n",
              "    .colab-df-container {\n",
              "      display:flex;\n",
              "      flex-wrap:wrap;\n",
              "      gap: 12px;\n",
              "    }\n",
              "\n",
              "    .colab-df-convert {\n",
              "      background-color: #E8F0FE;\n",
              "      border: none;\n",
              "      border-radius: 50%;\n",
              "      cursor: pointer;\n",
              "      display: none;\n",
              "      fill: #1967D2;\n",
              "      height: 32px;\n",
              "      padding: 0 0 0 0;\n",
              "      width: 32px;\n",
              "    }\n",
              "\n",
              "    .colab-df-convert:hover {\n",
              "      background-color: #E2EBFA;\n",
              "      box-shadow: 0px 1px 2px rgba(60, 64, 67, 0.3), 0px 1px 3px 1px rgba(60, 64, 67, 0.15);\n",
              "      fill: #174EA6;\n",
              "    }\n",
              "\n",
              "    [theme=dark] .colab-df-convert {\n",
              "      background-color: #3B4455;\n",
              "      fill: #D2E3FC;\n",
              "    }\n",
              "\n",
              "    [theme=dark] .colab-df-convert:hover {\n",
              "      background-color: #434B5C;\n",
              "      box-shadow: 0px 1px 3px 1px rgba(0, 0, 0, 0.15);\n",
              "      filter: drop-shadow(0px 1px 2px rgba(0, 0, 0, 0.3));\n",
              "      fill: #FFFFFF;\n",
              "    }\n",
              "  </style>\n",
              "\n",
              "      <script>\n",
              "        const buttonEl =\n",
              "          document.querySelector('#df-9ef6c015-c3f6-465e-bb21-9252c3852d42 button.colab-df-convert');\n",
              "        buttonEl.style.display =\n",
              "          google.colab.kernel.accessAllowed ? 'block' : 'none';\n",
              "\n",
              "        async function convertToInteractive(key) {\n",
              "          const element = document.querySelector('#df-9ef6c015-c3f6-465e-bb21-9252c3852d42');\n",
              "          const dataTable =\n",
              "            await google.colab.kernel.invokeFunction('convertToInteractive',\n",
              "                                                     [key], {});\n",
              "          if (!dataTable) return;\n",
              "\n",
              "          const docLinkHtml = 'Like what you see? Visit the ' +\n",
              "            '<a target=\"_blank\" href=https://colab.research.google.com/notebooks/data_table.ipynb>data table notebook</a>'\n",
              "            + ' to learn more about interactive tables.';\n",
              "          element.innerHTML = '';\n",
              "          dataTable['output_type'] = 'display_data';\n",
              "          await google.colab.output.renderOutput(dataTable, element);\n",
              "          const docLink = document.createElement('div');\n",
              "          docLink.innerHTML = docLinkHtml;\n",
              "          element.appendChild(docLink);\n",
              "        }\n",
              "      </script>\n",
              "    </div>\n",
              "  </div>\n",
              "  "
            ],
            "text/plain": [
              "     Product    Region  Deposit  DailyRate  AmountPaid30  AmountPaid360  \\\n",
              "0  Product B  Region 2     2000         40          3121          13621   \n",
              "1  Product B  Region 3     2000         40          3061          15041   \n",
              "2  Product C  Region 5     1000         40          2160          15340   \n",
              "3  Product B  Region 1     2000         40          3041          15321   \n",
              "4  Product D  Region 2     2000         50          3470          13720   \n",
              "\n",
              "  LoanStatus360  CustomerGender_Female  CustomerGender_Male  \\\n",
              "0        Active                      0                    1   \n",
              "1        Active                      0                    1   \n",
              "2        Active                      1                    0   \n",
              "3        Active                      0                    1   \n",
              "4        Active                      1                    0   \n",
              "\n",
              "   CustomerGender_NotSpecified  \n",
              "0                            0  \n",
              "1                            0  \n",
              "2                            0  \n",
              "3                            0  \n",
              "4                            0  "
            ]
          },
          "metadata": {},
          "execution_count": 29
        }
      ]
    },
    {
      "cell_type": "code",
      "metadata": {
        "id": "YniQNoEd1cKq"
      },
      "source": [
        "#Label encode the rest\n",
        "\n",
        "#Import Label Encoder from sklearn\n",
        "from sklearn.preprocessing import LabelEncoder\n",
        "\n",
        "#Initialise the encoder\n",
        "le = LabelEncoder()\n",
        "\n",
        "#Get a list called objects that contains the columns with categorical data\n",
        "objects= df.select_dtypes(include = 'object').columns\n",
        "\n",
        "\n",
        "#Label encode these columns using the label encoder\n",
        "for column in objects:\n",
        "  df[column]=le.fit_transform(df[column])"
      ],
      "execution_count": 30,
      "outputs": []
    },
    {
      "cell_type": "code",
      "metadata": {
        "id": "nypbj0YU2cT8",
        "outputId": "527918dc-5bc8-4f2d-a254-d8c7b78fdc94",
        "colab": {
          "base_uri": "https://localhost:8080/",
          "height": 270
        }
      },
      "source": [
        "#Confirm the changes\n",
        "df.head()"
      ],
      "execution_count": 31,
      "outputs": [
        {
          "output_type": "execute_result",
          "data": {
            "text/html": [
              "\n",
              "  <div id=\"df-81b82fee-1e69-4196-87c4-89f32adc5dc0\">\n",
              "    <div class=\"colab-df-container\">\n",
              "      <div>\n",
              "<style scoped>\n",
              "    .dataframe tbody tr th:only-of-type {\n",
              "        vertical-align: middle;\n",
              "    }\n",
              "\n",
              "    .dataframe tbody tr th {\n",
              "        vertical-align: top;\n",
              "    }\n",
              "\n",
              "    .dataframe thead th {\n",
              "        text-align: right;\n",
              "    }\n",
              "</style>\n",
              "<table border=\"1\" class=\"dataframe\">\n",
              "  <thead>\n",
              "    <tr style=\"text-align: right;\">\n",
              "      <th></th>\n",
              "      <th>Product</th>\n",
              "      <th>Region</th>\n",
              "      <th>Deposit</th>\n",
              "      <th>DailyRate</th>\n",
              "      <th>AmountPaid30</th>\n",
              "      <th>AmountPaid360</th>\n",
              "      <th>LoanStatus360</th>\n",
              "      <th>CustomerGender_Female</th>\n",
              "      <th>CustomerGender_Male</th>\n",
              "      <th>CustomerGender_NotSpecified</th>\n",
              "    </tr>\n",
              "  </thead>\n",
              "  <tbody>\n",
              "    <tr>\n",
              "      <th>0</th>\n",
              "      <td>1</td>\n",
              "      <td>10</td>\n",
              "      <td>2000</td>\n",
              "      <td>40</td>\n",
              "      <td>3121</td>\n",
              "      <td>13621</td>\n",
              "      <td>0</td>\n",
              "      <td>0</td>\n",
              "      <td>1</td>\n",
              "      <td>0</td>\n",
              "    </tr>\n",
              "    <tr>\n",
              "      <th>1</th>\n",
              "      <td>1</td>\n",
              "      <td>11</td>\n",
              "      <td>2000</td>\n",
              "      <td>40</td>\n",
              "      <td>3061</td>\n",
              "      <td>15041</td>\n",
              "      <td>0</td>\n",
              "      <td>0</td>\n",
              "      <td>1</td>\n",
              "      <td>0</td>\n",
              "    </tr>\n",
              "    <tr>\n",
              "      <th>2</th>\n",
              "      <td>2</td>\n",
              "      <td>13</td>\n",
              "      <td>1000</td>\n",
              "      <td>40</td>\n",
              "      <td>2160</td>\n",
              "      <td>15340</td>\n",
              "      <td>0</td>\n",
              "      <td>1</td>\n",
              "      <td>0</td>\n",
              "      <td>0</td>\n",
              "    </tr>\n",
              "    <tr>\n",
              "      <th>3</th>\n",
              "      <td>1</td>\n",
              "      <td>0</td>\n",
              "      <td>2000</td>\n",
              "      <td>40</td>\n",
              "      <td>3041</td>\n",
              "      <td>15321</td>\n",
              "      <td>0</td>\n",
              "      <td>0</td>\n",
              "      <td>1</td>\n",
              "      <td>0</td>\n",
              "    </tr>\n",
              "    <tr>\n",
              "      <th>4</th>\n",
              "      <td>3</td>\n",
              "      <td>10</td>\n",
              "      <td>2000</td>\n",
              "      <td>50</td>\n",
              "      <td>3470</td>\n",
              "      <td>13720</td>\n",
              "      <td>0</td>\n",
              "      <td>1</td>\n",
              "      <td>0</td>\n",
              "      <td>0</td>\n",
              "    </tr>\n",
              "  </tbody>\n",
              "</table>\n",
              "</div>\n",
              "      <button class=\"colab-df-convert\" onclick=\"convertToInteractive('df-81b82fee-1e69-4196-87c4-89f32adc5dc0')\"\n",
              "              title=\"Convert this dataframe to an interactive table.\"\n",
              "              style=\"display:none;\">\n",
              "        \n",
              "  <svg xmlns=\"http://www.w3.org/2000/svg\" height=\"24px\"viewBox=\"0 0 24 24\"\n",
              "       width=\"24px\">\n",
              "    <path d=\"M0 0h24v24H0V0z\" fill=\"none\"/>\n",
              "    <path d=\"M18.56 5.44l.94 2.06.94-2.06 2.06-.94-2.06-.94-.94-2.06-.94 2.06-2.06.94zm-11 1L8.5 8.5l.94-2.06 2.06-.94-2.06-.94L8.5 2.5l-.94 2.06-2.06.94zm10 10l.94 2.06.94-2.06 2.06-.94-2.06-.94-.94-2.06-.94 2.06-2.06.94z\"/><path d=\"M17.41 7.96l-1.37-1.37c-.4-.4-.92-.59-1.43-.59-.52 0-1.04.2-1.43.59L10.3 9.45l-7.72 7.72c-.78.78-.78 2.05 0 2.83L4 21.41c.39.39.9.59 1.41.59.51 0 1.02-.2 1.41-.59l7.78-7.78 2.81-2.81c.8-.78.8-2.07 0-2.86zM5.41 20L4 18.59l7.72-7.72 1.47 1.35L5.41 20z\"/>\n",
              "  </svg>\n",
              "      </button>\n",
              "      \n",
              "  <style>\n",
              "    .colab-df-container {\n",
              "      display:flex;\n",
              "      flex-wrap:wrap;\n",
              "      gap: 12px;\n",
              "    }\n",
              "\n",
              "    .colab-df-convert {\n",
              "      background-color: #E8F0FE;\n",
              "      border: none;\n",
              "      border-radius: 50%;\n",
              "      cursor: pointer;\n",
              "      display: none;\n",
              "      fill: #1967D2;\n",
              "      height: 32px;\n",
              "      padding: 0 0 0 0;\n",
              "      width: 32px;\n",
              "    }\n",
              "\n",
              "    .colab-df-convert:hover {\n",
              "      background-color: #E2EBFA;\n",
              "      box-shadow: 0px 1px 2px rgba(60, 64, 67, 0.3), 0px 1px 3px 1px rgba(60, 64, 67, 0.15);\n",
              "      fill: #174EA6;\n",
              "    }\n",
              "\n",
              "    [theme=dark] .colab-df-convert {\n",
              "      background-color: #3B4455;\n",
              "      fill: #D2E3FC;\n",
              "    }\n",
              "\n",
              "    [theme=dark] .colab-df-convert:hover {\n",
              "      background-color: #434B5C;\n",
              "      box-shadow: 0px 1px 3px 1px rgba(0, 0, 0, 0.15);\n",
              "      filter: drop-shadow(0px 1px 2px rgba(0, 0, 0, 0.3));\n",
              "      fill: #FFFFFF;\n",
              "    }\n",
              "  </style>\n",
              "\n",
              "      <script>\n",
              "        const buttonEl =\n",
              "          document.querySelector('#df-81b82fee-1e69-4196-87c4-89f32adc5dc0 button.colab-df-convert');\n",
              "        buttonEl.style.display =\n",
              "          google.colab.kernel.accessAllowed ? 'block' : 'none';\n",
              "\n",
              "        async function convertToInteractive(key) {\n",
              "          const element = document.querySelector('#df-81b82fee-1e69-4196-87c4-89f32adc5dc0');\n",
              "          const dataTable =\n",
              "            await google.colab.kernel.invokeFunction('convertToInteractive',\n",
              "                                                     [key], {});\n",
              "          if (!dataTable) return;\n",
              "\n",
              "          const docLinkHtml = 'Like what you see? Visit the ' +\n",
              "            '<a target=\"_blank\" href=https://colab.research.google.com/notebooks/data_table.ipynb>data table notebook</a>'\n",
              "            + ' to learn more about interactive tables.';\n",
              "          element.innerHTML = '';\n",
              "          dataTable['output_type'] = 'display_data';\n",
              "          await google.colab.output.renderOutput(dataTable, element);\n",
              "          const docLink = document.createElement('div');\n",
              "          docLink.innerHTML = docLinkHtml;\n",
              "          element.appendChild(docLink);\n",
              "        }\n",
              "      </script>\n",
              "    </div>\n",
              "  </div>\n",
              "  "
            ],
            "text/plain": [
              "   Product  Region  Deposit  DailyRate  AmountPaid30  AmountPaid360  \\\n",
              "0        1      10     2000         40          3121          13621   \n",
              "1        1      11     2000         40          3061          15041   \n",
              "2        2      13     1000         40          2160          15340   \n",
              "3        1       0     2000         40          3041          15321   \n",
              "4        3      10     2000         50          3470          13720   \n",
              "\n",
              "   LoanStatus360  CustomerGender_Female  CustomerGender_Male  \\\n",
              "0              0                      0                    1   \n",
              "1              0                      0                    1   \n",
              "2              0                      1                    0   \n",
              "3              0                      0                    1   \n",
              "4              0                      1                    0   \n",
              "\n",
              "   CustomerGender_NotSpecified  \n",
              "0                            0  \n",
              "1                            0  \n",
              "2                            0  \n",
              "3                            0  \n",
              "4                            0  "
            ]
          },
          "metadata": {},
          "execution_count": 31
        }
      ]
    },
    {
      "cell_type": "markdown",
      "metadata": {
        "id": "uffnGAdxBYgc"
      },
      "source": [
        "### Linear discriminant Analysis"
      ]
    },
    {
      "cell_type": "code",
      "metadata": {
        "id": "IIwcR652BYgd"
      },
      "source": [
        "\n",
        "# Separate our features(X) and target(y)\n",
        "\n",
        "X = df.drop('LoanStatus360', axis = 1)\n",
        "\n",
        "y = df['LoanStatus360']"
      ],
      "execution_count": 48,
      "outputs": []
    },
    {
      "cell_type": "code",
      "metadata": {
        "id": "gmKYoVOABYgk",
        "colab": {
          "base_uri": "https://localhost:8080/"
        },
        "outputId": "43257d42-c43e-47ec-d376-5c30dc30281e"
      },
      "source": [
        "\n",
        "# Subject our features to LDA model\n",
        "\n",
        "# Import Linear Discriminant Analysis method from sklearn library\n",
        "from sklearn.discriminant_analysis import LinearDiscriminantAnalysis as LDA\n",
        "\n",
        "# Create an instance of LDA\n",
        "lda = LDA()\n",
        "\n",
        "lda_= lda.fit(X, y)\n",
        "lda_feat = lda_.transform(X)\n",
        "\n",
        "# Display the coeficients of the reducted columns\n",
        "lda_.coef_\n"
      ],
      "execution_count": 49,
      "outputs": [
        {
          "output_type": "execute_result",
          "data": {
            "text/plain": [
              "array([[-1.60432007e-02,  2.35790840e-03,  1.45032021e-04,\n",
              "        -9.33754211e-04, -1.09995997e-04,  1.24432155e-05,\n",
              "         3.90535111e-02, -8.21852614e-03, -1.25313409e-01],\n",
              "       [ 3.14645591e-01, -3.53900943e-03,  7.72319198e-04,\n",
              "         1.06366561e-01,  2.07480216e-04, -6.35787255e-04,\n",
              "        -1.95903108e-01,  9.35069839e-02,  3.99278393e-01],\n",
              "       [-9.91090071e-02, -8.03765550e-03, -1.01839457e-03,\n",
              "        -5.23752118e-02,  3.52520142e-04,  2.84221459e-04,\n",
              "        -6.04594969e-02, -1.49489564e-02,  3.15383822e-01]])"
            ]
          },
          "metadata": {},
          "execution_count": 49
        }
      ]
    },
    {
      "cell_type": "code",
      "source": [
        "# Since the coefficients are in an array, we needto create a dataframe so that we can extract the name of the columns\n",
        "f_imp = pd.DataFrame(index=X.columns.values, data=lda_.coef_[0].T)\n",
        "f_imp.sort_values(0, ascending=False)"
      ],
      "metadata": {
        "colab": {
          "base_uri": "https://localhost:8080/",
          "height": 331
        },
        "id": "-Lhp8P9fDpAU",
        "outputId": "91d63969-8b25-49a5-d343-549af88fcbc3"
      },
      "execution_count": 50,
      "outputs": [
        {
          "output_type": "execute_result",
          "data": {
            "text/html": [
              "\n",
              "  <div id=\"df-a2ce2005-80b3-4f60-b8fb-fb8a930f79fc\">\n",
              "    <div class=\"colab-df-container\">\n",
              "      <div>\n",
              "<style scoped>\n",
              "    .dataframe tbody tr th:only-of-type {\n",
              "        vertical-align: middle;\n",
              "    }\n",
              "\n",
              "    .dataframe tbody tr th {\n",
              "        vertical-align: top;\n",
              "    }\n",
              "\n",
              "    .dataframe thead th {\n",
              "        text-align: right;\n",
              "    }\n",
              "</style>\n",
              "<table border=\"1\" class=\"dataframe\">\n",
              "  <thead>\n",
              "    <tr style=\"text-align: right;\">\n",
              "      <th></th>\n",
              "      <th>0</th>\n",
              "    </tr>\n",
              "  </thead>\n",
              "  <tbody>\n",
              "    <tr>\n",
              "      <th>CustomerGender_Female</th>\n",
              "      <td>0.039054</td>\n",
              "    </tr>\n",
              "    <tr>\n",
              "      <th>Region</th>\n",
              "      <td>0.002358</td>\n",
              "    </tr>\n",
              "    <tr>\n",
              "      <th>Deposit</th>\n",
              "      <td>0.000145</td>\n",
              "    </tr>\n",
              "    <tr>\n",
              "      <th>AmountPaid360</th>\n",
              "      <td>0.000012</td>\n",
              "    </tr>\n",
              "    <tr>\n",
              "      <th>AmountPaid30</th>\n",
              "      <td>-0.000110</td>\n",
              "    </tr>\n",
              "    <tr>\n",
              "      <th>DailyRate</th>\n",
              "      <td>-0.000934</td>\n",
              "    </tr>\n",
              "    <tr>\n",
              "      <th>CustomerGender_Male</th>\n",
              "      <td>-0.008219</td>\n",
              "    </tr>\n",
              "    <tr>\n",
              "      <th>Product</th>\n",
              "      <td>-0.016043</td>\n",
              "    </tr>\n",
              "    <tr>\n",
              "      <th>CustomerGender_NotSpecified</th>\n",
              "      <td>-0.125313</td>\n",
              "    </tr>\n",
              "  </tbody>\n",
              "</table>\n",
              "</div>\n",
              "      <button class=\"colab-df-convert\" onclick=\"convertToInteractive('df-a2ce2005-80b3-4f60-b8fb-fb8a930f79fc')\"\n",
              "              title=\"Convert this dataframe to an interactive table.\"\n",
              "              style=\"display:none;\">\n",
              "        \n",
              "  <svg xmlns=\"http://www.w3.org/2000/svg\" height=\"24px\"viewBox=\"0 0 24 24\"\n",
              "       width=\"24px\">\n",
              "    <path d=\"M0 0h24v24H0V0z\" fill=\"none\"/>\n",
              "    <path d=\"M18.56 5.44l.94 2.06.94-2.06 2.06-.94-2.06-.94-.94-2.06-.94 2.06-2.06.94zm-11 1L8.5 8.5l.94-2.06 2.06-.94-2.06-.94L8.5 2.5l-.94 2.06-2.06.94zm10 10l.94 2.06.94-2.06 2.06-.94-2.06-.94-.94-2.06-.94 2.06-2.06.94z\"/><path d=\"M17.41 7.96l-1.37-1.37c-.4-.4-.92-.59-1.43-.59-.52 0-1.04.2-1.43.59L10.3 9.45l-7.72 7.72c-.78.78-.78 2.05 0 2.83L4 21.41c.39.39.9.59 1.41.59.51 0 1.02-.2 1.41-.59l7.78-7.78 2.81-2.81c.8-.78.8-2.07 0-2.86zM5.41 20L4 18.59l7.72-7.72 1.47 1.35L5.41 20z\"/>\n",
              "  </svg>\n",
              "      </button>\n",
              "      \n",
              "  <style>\n",
              "    .colab-df-container {\n",
              "      display:flex;\n",
              "      flex-wrap:wrap;\n",
              "      gap: 12px;\n",
              "    }\n",
              "\n",
              "    .colab-df-convert {\n",
              "      background-color: #E8F0FE;\n",
              "      border: none;\n",
              "      border-radius: 50%;\n",
              "      cursor: pointer;\n",
              "      display: none;\n",
              "      fill: #1967D2;\n",
              "      height: 32px;\n",
              "      padding: 0 0 0 0;\n",
              "      width: 32px;\n",
              "    }\n",
              "\n",
              "    .colab-df-convert:hover {\n",
              "      background-color: #E2EBFA;\n",
              "      box-shadow: 0px 1px 2px rgba(60, 64, 67, 0.3), 0px 1px 3px 1px rgba(60, 64, 67, 0.15);\n",
              "      fill: #174EA6;\n",
              "    }\n",
              "\n",
              "    [theme=dark] .colab-df-convert {\n",
              "      background-color: #3B4455;\n",
              "      fill: #D2E3FC;\n",
              "    }\n",
              "\n",
              "    [theme=dark] .colab-df-convert:hover {\n",
              "      background-color: #434B5C;\n",
              "      box-shadow: 0px 1px 3px 1px rgba(0, 0, 0, 0.15);\n",
              "      filter: drop-shadow(0px 1px 2px rgba(0, 0, 0, 0.3));\n",
              "      fill: #FFFFFF;\n",
              "    }\n",
              "  </style>\n",
              "\n",
              "      <script>\n",
              "        const buttonEl =\n",
              "          document.querySelector('#df-a2ce2005-80b3-4f60-b8fb-fb8a930f79fc button.colab-df-convert');\n",
              "        buttonEl.style.display =\n",
              "          google.colab.kernel.accessAllowed ? 'block' : 'none';\n",
              "\n",
              "        async function convertToInteractive(key) {\n",
              "          const element = document.querySelector('#df-a2ce2005-80b3-4f60-b8fb-fb8a930f79fc');\n",
              "          const dataTable =\n",
              "            await google.colab.kernel.invokeFunction('convertToInteractive',\n",
              "                                                     [key], {});\n",
              "          if (!dataTable) return;\n",
              "\n",
              "          const docLinkHtml = 'Like what you see? Visit the ' +\n",
              "            '<a target=\"_blank\" href=https://colab.research.google.com/notebooks/data_table.ipynb>data table notebook</a>'\n",
              "            + ' to learn more about interactive tables.';\n",
              "          element.innerHTML = '';\n",
              "          dataTable['output_type'] = 'display_data';\n",
              "          await google.colab.output.renderOutput(dataTable, element);\n",
              "          const docLink = document.createElement('div');\n",
              "          docLink.innerHTML = docLinkHtml;\n",
              "          element.appendChild(docLink);\n",
              "        }\n",
              "      </script>\n",
              "    </div>\n",
              "  </div>\n",
              "  "
            ],
            "text/plain": [
              "                                    0\n",
              "CustomerGender_Female        0.039054\n",
              "Region                       0.002358\n",
              "Deposit                      0.000145\n",
              "AmountPaid360                0.000012\n",
              "AmountPaid30                -0.000110\n",
              "DailyRate                   -0.000934\n",
              "CustomerGender_Male         -0.008219\n",
              "Product                     -0.016043\n",
              "CustomerGender_NotSpecified -0.125313"
            ]
          },
          "metadata": {},
          "execution_count": 50
        }
      ]
    },
    {
      "cell_type": "markdown",
      "source": [
        "### Recommendatons \n",
        "\n",
        "From our analysis, it is safe to conclude that we can use  a linear combination of the following features to comfortably predict if an individual has an active loan status or not.\n",
        "\n",
        "\n",
        "* CustomerGender_Female\n",
        "*  Region\n",
        "* Deposit\n",
        "* Amountpaid360\n",
        "\n",
        "---\n",
        "\n"
      ],
      "metadata": {
        "id": "0zSH4UC9dQaz"
      }
    }
  ]
}